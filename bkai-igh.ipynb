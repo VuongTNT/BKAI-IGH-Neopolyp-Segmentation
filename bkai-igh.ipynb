{
  "metadata": {
    "kernelspec": {
      "display_name": "Python 3",
      "name": "python3"
    },
    "language_info": {
      "name": "python",
      "version": "3.10.12",
      "mimetype": "text/x-python",
      "codemirror_mode": {
        "name": "ipython",
        "version": 3
      },
      "pygments_lexer": "ipython3",
      "nbconvert_exporter": "python",
      "file_extension": ".py"
    },
    "kaggle": {
      "accelerator": "nvidiaTeslaT4",
      "dataSources": [
        {
          "sourceId": 30892,
          "databundleVersionId": 2715462,
          "sourceType": "competition"
        },
        {
          "sourceId": 6983304,
          "sourceType": "datasetVersion",
          "datasetId": 4002781
        }
      ],
      "dockerImageVersionId": 30579,
      "isInternetEnabled": false,
      "language": "python",
      "sourceType": "notebook",
      "isGpuEnabled": true
    },
    "colab": {
      "provenance": []
    }
  },
  "nbformat_minor": 0,
  "nbformat": 4,
  "cells": [
    {
      "source": [
        "import kagglehub\n"
      ],
      "metadata": {
        "id": "CW2hlv_IvCC_"
      },
      "cell_type": "code",
      "outputs": [],
      "execution_count": 1
    },
    {
      "cell_type": "code",
      "source": [
        "import os\n",
        "import json\n",
        "\n",
        "# Replace with your actual Kaggle username and token\n",
        "kaggle_username = \"vuongtran11233\"\n",
        "kaggle_token = \"9e534b1230ff13e77e96d939804a8c62\"\n",
        "\n",
        "# Define the path for kaggle.json\n",
        "kaggle_path = os.path.join(os.path.expanduser(\"~\"), \".kaggle\")\n",
        "kaggle_file = os.path.join(kaggle_path, \"kaggle.json\")\n",
        "\n",
        "# Ensure the .kaggle directory exists\n",
        "os.makedirs(kaggle_path, exist_ok=True)\n",
        "\n",
        "# Write the credentials to kaggle.json\n",
        "with open(kaggle_file, \"w\") as f:\n",
        "    json.dump({\"username\": kaggle_username, \"key\": kaggle_token}, f)\n",
        "\n",
        "# Set the appropriate permissions (for Linux/MacOS)\n",
        "os.chmod(kaggle_file, 0o600)\n",
        "\n",
        "print(\"Kaggle credentials saved successfully!\")\n"
      ],
      "metadata": {
        "colab": {
          "base_uri": "https://localhost:8080/"
        },
        "id": "ESs-kqceW1JF",
        "outputId": "84c20701-aa59-494c-ed63-9e15c578e547"
      },
      "execution_count": 2,
      "outputs": [
        {
          "output_type": "stream",
          "name": "stdout",
          "text": [
            "Kaggle credentials saved successfully!\n"
          ]
        }
      ]
    },
    {
      "source": [
        "# IMPORTANT: RUN THIS CELL IN ORDER TO IMPORT YOUR KAGGLE DATA SOURCES,\n",
        "# THEN FEEL FREE TO DELETE THIS CELL.\n",
        "# NOTE: THIS NOTEBOOK ENVIRONMENT DIFFERS FROM KAGGLE'S PYTHON\n",
        "# ENVIRONMENT SO THERE MAY BE MISSING LIBRARIES USED BY YOUR\n",
        "# NOTEBOOK.\n",
        "\n",
        "bkai_igh_neopolyp_path = kagglehub.competition_download('bkai-igh-neopolyp')\n",
        "\n",
        "print('Data source import complete.')\n"
      ],
      "metadata": {
        "id": "E_a3-eE6vCDE",
        "colab": {
          "base_uri": "https://localhost:8080/"
        },
        "outputId": "9ff33f6c-6de2-4d6b-bad0-20ae50404014"
      },
      "cell_type": "code",
      "outputs": [
        {
          "output_type": "stream",
          "name": "stdout",
          "text": [
            "Downloading from https://www.kaggle.com/api/v1/competitions/data/download-all/bkai-igh-neopolyp...\n"
          ]
        },
        {
          "output_type": "stream",
          "name": "stderr",
          "text": [
            "100%|██████████| 314M/314M [00:03<00:00, 85.0MB/s]"
          ]
        },
        {
          "output_type": "stream",
          "name": "stdout",
          "text": [
            "Extracting files...\n"
          ]
        },
        {
          "output_type": "stream",
          "name": "stderr",
          "text": [
            "\n"
          ]
        },
        {
          "output_type": "stream",
          "name": "stdout",
          "text": [
            "Data source import complete.\n"
          ]
        }
      ],
      "execution_count": 3
    },
    {
      "cell_type": "code",
      "source": [
        "!pip install torchsummary\n",
        "!pip install torchgeometry"
      ],
      "metadata": {
        "execution": {
          "iopub.status.busy": "2023-11-16T17:13:57.834597Z",
          "iopub.execute_input": "2023-11-16T17:13:57.834962Z",
          "iopub.status.idle": "2023-11-16T17:14:22.702435Z",
          "shell.execute_reply.started": "2023-11-16T17:13:57.834933Z",
          "shell.execute_reply": "2023-11-16T17:14:22.700891Z"
        },
        "trusted": true,
        "id": "5wIMre7ovCDF",
        "colab": {
          "base_uri": "https://localhost:8080/"
        },
        "outputId": "490312bb-c565-4d4b-bbf2-054a0b5d5f0e"
      },
      "outputs": [
        {
          "output_type": "stream",
          "name": "stdout",
          "text": [
            "Requirement already satisfied: torchsummary in /usr/local/lib/python3.10/dist-packages (1.5.1)\n",
            "Collecting torchgeometry\n",
            "  Downloading torchgeometry-0.1.2-py2.py3-none-any.whl.metadata (2.9 kB)\n",
            "Requirement already satisfied: torch>=1.0.0 in /usr/local/lib/python3.10/dist-packages (from torchgeometry) (2.5.1+cu121)\n",
            "Requirement already satisfied: filelock in /usr/local/lib/python3.10/dist-packages (from torch>=1.0.0->torchgeometry) (3.16.1)\n",
            "Requirement already satisfied: typing-extensions>=4.8.0 in /usr/local/lib/python3.10/dist-packages (from torch>=1.0.0->torchgeometry) (4.12.2)\n",
            "Requirement already satisfied: networkx in /usr/local/lib/python3.10/dist-packages (from torch>=1.0.0->torchgeometry) (3.4.2)\n",
            "Requirement already satisfied: jinja2 in /usr/local/lib/python3.10/dist-packages (from torch>=1.0.0->torchgeometry) (3.1.4)\n",
            "Requirement already satisfied: fsspec in /usr/local/lib/python3.10/dist-packages (from torch>=1.0.0->torchgeometry) (2024.10.0)\n",
            "Requirement already satisfied: sympy==1.13.1 in /usr/local/lib/python3.10/dist-packages (from torch>=1.0.0->torchgeometry) (1.13.1)\n",
            "Requirement already satisfied: mpmath<1.4,>=1.1.0 in /usr/local/lib/python3.10/dist-packages (from sympy==1.13.1->torch>=1.0.0->torchgeometry) (1.3.0)\n",
            "Requirement already satisfied: MarkupSafe>=2.0 in /usr/local/lib/python3.10/dist-packages (from jinja2->torch>=1.0.0->torchgeometry) (3.0.2)\n",
            "Downloading torchgeometry-0.1.2-py2.py3-none-any.whl (42 kB)\n",
            "\u001b[2K   \u001b[90m━━━━━━━━━━━━━━━━━━━━━━━━━━━━━━━━━━━━━━━━\u001b[0m \u001b[32m42.7/42.7 kB\u001b[0m \u001b[31m1.5 MB/s\u001b[0m eta \u001b[36m0:00:00\u001b[0m\n",
            "\u001b[?25hInstalling collected packages: torchgeometry\n",
            "Successfully installed torchgeometry-0.1.2\n"
          ]
        }
      ],
      "execution_count": 4
    },
    {
      "cell_type": "code",
      "source": [
        "!pip install segmentation-models-pytorch"
      ],
      "metadata": {
        "execution": {
          "iopub.status.busy": "2023-11-17T02:07:32.30943Z",
          "iopub.execute_input": "2023-11-17T02:07:32.309751Z",
          "iopub.status.idle": "2023-11-17T02:07:52.823884Z",
          "shell.execute_reply.started": "2023-11-17T02:07:32.309725Z",
          "shell.execute_reply": "2023-11-17T02:07:52.822931Z"
        },
        "trusted": true,
        "id": "KdxSwRKuvCDF",
        "colab": {
          "base_uri": "https://localhost:8080/"
        },
        "outputId": "4f6bf872-7e6c-4e10-a5f2-e2eddd2013b8"
      },
      "outputs": [
        {
          "output_type": "stream",
          "name": "stdout",
          "text": [
            "Collecting segmentation-models-pytorch\n",
            "  Downloading segmentation_models_pytorch-0.3.4-py3-none-any.whl.metadata (30 kB)\n",
            "Collecting efficientnet-pytorch==0.7.1 (from segmentation-models-pytorch)\n",
            "  Downloading efficientnet_pytorch-0.7.1.tar.gz (21 kB)\n",
            "  Preparing metadata (setup.py) ... \u001b[?25l\u001b[?25hdone\n",
            "Requirement already satisfied: huggingface-hub>=0.24.6 in /usr/local/lib/python3.10/dist-packages (from segmentation-models-pytorch) (0.26.2)\n",
            "Requirement already satisfied: pillow in /usr/local/lib/python3.10/dist-packages (from segmentation-models-pytorch) (11.0.0)\n",
            "Collecting pretrainedmodels==0.7.4 (from segmentation-models-pytorch)\n",
            "  Downloading pretrainedmodels-0.7.4.tar.gz (58 kB)\n",
            "\u001b[2K     \u001b[90m━━━━━━━━━━━━━━━━━━━━━━━━━━━━━━━━━━━━━━━━\u001b[0m \u001b[32m58.8/58.8 kB\u001b[0m \u001b[31m3.6 MB/s\u001b[0m eta \u001b[36m0:00:00\u001b[0m\n",
            "\u001b[?25h  Preparing metadata (setup.py) ... \u001b[?25l\u001b[?25hdone\n",
            "Requirement already satisfied: six in /usr/local/lib/python3.10/dist-packages (from segmentation-models-pytorch) (1.16.0)\n",
            "Collecting timm==0.9.7 (from segmentation-models-pytorch)\n",
            "  Downloading timm-0.9.7-py3-none-any.whl.metadata (58 kB)\n",
            "\u001b[2K     \u001b[90m━━━━━━━━━━━━━━━━━━━━━━━━━━━━━━━━━━━━━━━━\u001b[0m \u001b[32m58.8/58.8 kB\u001b[0m \u001b[31m2.6 MB/s\u001b[0m eta \u001b[36m0:00:00\u001b[0m\n",
            "\u001b[?25hRequirement already satisfied: torchvision>=0.5.0 in /usr/local/lib/python3.10/dist-packages (from segmentation-models-pytorch) (0.20.1+cu121)\n",
            "Requirement already satisfied: tqdm in /usr/local/lib/python3.10/dist-packages (from segmentation-models-pytorch) (4.66.6)\n",
            "Requirement already satisfied: torch in /usr/local/lib/python3.10/dist-packages (from efficientnet-pytorch==0.7.1->segmentation-models-pytorch) (2.5.1+cu121)\n",
            "Collecting munch (from pretrainedmodels==0.7.4->segmentation-models-pytorch)\n",
            "  Downloading munch-4.0.0-py2.py3-none-any.whl.metadata (5.9 kB)\n",
            "Requirement already satisfied: pyyaml in /usr/local/lib/python3.10/dist-packages (from timm==0.9.7->segmentation-models-pytorch) (6.0.2)\n",
            "Requirement already satisfied: safetensors in /usr/local/lib/python3.10/dist-packages (from timm==0.9.7->segmentation-models-pytorch) (0.4.5)\n",
            "Requirement already satisfied: filelock in /usr/local/lib/python3.10/dist-packages (from huggingface-hub>=0.24.6->segmentation-models-pytorch) (3.16.1)\n",
            "Requirement already satisfied: fsspec>=2023.5.0 in /usr/local/lib/python3.10/dist-packages (from huggingface-hub>=0.24.6->segmentation-models-pytorch) (2024.10.0)\n",
            "Requirement already satisfied: packaging>=20.9 in /usr/local/lib/python3.10/dist-packages (from huggingface-hub>=0.24.6->segmentation-models-pytorch) (24.2)\n",
            "Requirement already satisfied: requests in /usr/local/lib/python3.10/dist-packages (from huggingface-hub>=0.24.6->segmentation-models-pytorch) (2.32.3)\n",
            "Requirement already satisfied: typing-extensions>=3.7.4.3 in /usr/local/lib/python3.10/dist-packages (from huggingface-hub>=0.24.6->segmentation-models-pytorch) (4.12.2)\n",
            "Requirement already satisfied: numpy in /usr/local/lib/python3.10/dist-packages (from torchvision>=0.5.0->segmentation-models-pytorch) (1.26.4)\n",
            "Requirement already satisfied: networkx in /usr/local/lib/python3.10/dist-packages (from torch->efficientnet-pytorch==0.7.1->segmentation-models-pytorch) (3.4.2)\n",
            "Requirement already satisfied: jinja2 in /usr/local/lib/python3.10/dist-packages (from torch->efficientnet-pytorch==0.7.1->segmentation-models-pytorch) (3.1.4)\n",
            "Requirement already satisfied: sympy==1.13.1 in /usr/local/lib/python3.10/dist-packages (from torch->efficientnet-pytorch==0.7.1->segmentation-models-pytorch) (1.13.1)\n",
            "Requirement already satisfied: mpmath<1.4,>=1.1.0 in /usr/local/lib/python3.10/dist-packages (from sympy==1.13.1->torch->efficientnet-pytorch==0.7.1->segmentation-models-pytorch) (1.3.0)\n",
            "Requirement already satisfied: charset-normalizer<4,>=2 in /usr/local/lib/python3.10/dist-packages (from requests->huggingface-hub>=0.24.6->segmentation-models-pytorch) (3.4.0)\n",
            "Requirement already satisfied: idna<4,>=2.5 in /usr/local/lib/python3.10/dist-packages (from requests->huggingface-hub>=0.24.6->segmentation-models-pytorch) (3.10)\n",
            "Requirement already satisfied: urllib3<3,>=1.21.1 in /usr/local/lib/python3.10/dist-packages (from requests->huggingface-hub>=0.24.6->segmentation-models-pytorch) (2.2.3)\n",
            "Requirement already satisfied: certifi>=2017.4.17 in /usr/local/lib/python3.10/dist-packages (from requests->huggingface-hub>=0.24.6->segmentation-models-pytorch) (2024.8.30)\n",
            "Requirement already satisfied: MarkupSafe>=2.0 in /usr/local/lib/python3.10/dist-packages (from jinja2->torch->efficientnet-pytorch==0.7.1->segmentation-models-pytorch) (3.0.2)\n",
            "Downloading segmentation_models_pytorch-0.3.4-py3-none-any.whl (109 kB)\n",
            "\u001b[2K   \u001b[90m━━━━━━━━━━━━━━━━━━━━━━━━━━━━━━━━━━━━━━━━\u001b[0m \u001b[32m109.5/109.5 kB\u001b[0m \u001b[31m5.8 MB/s\u001b[0m eta \u001b[36m0:00:00\u001b[0m\n",
            "\u001b[?25hDownloading timm-0.9.7-py3-none-any.whl (2.2 MB)\n",
            "\u001b[2K   \u001b[90m━━━━━━━━━━━━━━━━━━━━━━━━━━━━━━━━━━━━━━━━\u001b[0m \u001b[32m2.2/2.2 MB\u001b[0m \u001b[31m23.1 MB/s\u001b[0m eta \u001b[36m0:00:00\u001b[0m\n",
            "\u001b[?25hDownloading munch-4.0.0-py2.py3-none-any.whl (9.9 kB)\n",
            "Building wheels for collected packages: efficientnet-pytorch, pretrainedmodels\n",
            "  Building wheel for efficientnet-pytorch (setup.py) ... \u001b[?25l\u001b[?25hdone\n",
            "  Created wheel for efficientnet-pytorch: filename=efficientnet_pytorch-0.7.1-py3-none-any.whl size=16424 sha256=60b39ef95fe7dc63f46eca4ab485f76c86104193ed1770483b594b1c0338dca5\n",
            "  Stored in directory: /root/.cache/pip/wheels/03/3f/e9/911b1bc46869644912bda90a56bcf7b960f20b5187feea3baf\n",
            "  Building wheel for pretrainedmodels (setup.py) ... \u001b[?25l\u001b[?25hdone\n",
            "  Created wheel for pretrainedmodels: filename=pretrainedmodels-0.7.4-py3-none-any.whl size=60944 sha256=3c348b9596516df074a1eb192e34c6ef1f5e71b0bd0ba92974ebc1b81b271e49\n",
            "  Stored in directory: /root/.cache/pip/wheels/35/cb/a5/8f534c60142835bfc889f9a482e4a67e0b817032d9c6883b64\n",
            "Successfully built efficientnet-pytorch pretrainedmodels\n",
            "Installing collected packages: munch, efficientnet-pytorch, timm, pretrainedmodels, segmentation-models-pytorch\n",
            "  Attempting uninstall: timm\n",
            "    Found existing installation: timm 1.0.11\n",
            "    Uninstalling timm-1.0.11:\n",
            "      Successfully uninstalled timm-1.0.11\n",
            "Successfully installed efficientnet-pytorch-0.7.1 munch-4.0.0 pretrainedmodels-0.7.4 segmentation-models-pytorch-0.3.4 timm-0.9.7\n"
          ]
        }
      ],
      "execution_count": 5
    },
    {
      "cell_type": "code",
      "source": [
        "!pip install torchinfo"
      ],
      "metadata": {
        "colab": {
          "base_uri": "https://localhost:8080/"
        },
        "id": "8oe6BPEriE3a",
        "outputId": "39cf798b-1651-43f8-94f7-c2a91773ab48"
      },
      "execution_count": 6,
      "outputs": [
        {
          "output_type": "stream",
          "name": "stdout",
          "text": [
            "Collecting torchinfo\n",
            "  Downloading torchinfo-1.8.0-py3-none-any.whl.metadata (21 kB)\n",
            "Downloading torchinfo-1.8.0-py3-none-any.whl (23 kB)\n",
            "Installing collected packages: torchinfo\n",
            "Successfully installed torchinfo-1.8.0\n"
          ]
        }
      ]
    },
    {
      "cell_type": "code",
      "source": [
        "import os\n",
        "import pandas as pd\n",
        "import numpy as np\n",
        "import cv2\n",
        "from torchvision.io import read_image\n",
        "import matplotlib.pyplot as plt\n",
        "from torch.utils.data import Dataset, random_split, DataLoader\n",
        "import albumentations as A\n",
        "from albumentations.pytorch.transforms import ToTensorV2\n",
        "\n",
        "from torchvision.transforms import ToTensor\n",
        "from PIL import Image\n",
        "import os\n",
        "\n",
        "import torch\n",
        "import torch.nn as nn\n",
        "import torch.optim as optim\n",
        "import torchvision\n",
        "from torchvision import transforms\n",
        "from torchinfo import summary\n",
        "import timm\n",
        "import segmentation_models_pytorch as smp\n",
        "import wandb"
      ],
      "metadata": {
        "_uuid": "8f2839f25d086af736a60e9eeb907d3b93b6e0e5",
        "_cell_guid": "b1076dfc-b9ad-4769-8c92-a6c4dae69d19",
        "execution": {
          "iopub.status.busy": "2023-11-17T02:08:21.238418Z",
          "iopub.execute_input": "2023-11-17T02:08:21.238768Z",
          "iopub.status.idle": "2023-11-17T02:08:23.332269Z",
          "shell.execute_reply.started": "2023-11-17T02:08:21.23874Z",
          "shell.execute_reply": "2023-11-17T02:08:23.33138Z"
        },
        "trusted": true,
        "id": "7Svt5bLDvCDF",
        "colab": {
          "base_uri": "https://localhost:8080/"
        },
        "outputId": "d95c17a9-4eef-4ac5-e339-b651c3ee4fc9"
      },
      "outputs": [
        {
          "output_type": "stream",
          "name": "stderr",
          "text": [
            "/usr/local/lib/python3.10/dist-packages/albumentations/__init__.py:24: UserWarning: A new version of Albumentations is available: 1.4.21 (you have 1.4.20). Upgrade using: pip install -U albumentations. To disable automatic update checks, set the environment variable NO_ALBUMENTATIONS_UPDATE to 1.\n",
            "  check_for_updates()\n"
          ]
        }
      ],
      "execution_count": 7
    },
    {
      "cell_type": "code",
      "source": [
        "!nvidia-smi -L"
      ],
      "metadata": {
        "execution": {
          "iopub.status.busy": "2023-11-17T02:08:27.193302Z",
          "iopub.execute_input": "2023-11-17T02:08:27.194199Z",
          "iopub.status.idle": "2023-11-17T02:08:28.206596Z",
          "shell.execute_reply.started": "2023-11-17T02:08:27.194165Z",
          "shell.execute_reply": "2023-11-17T02:08:28.205546Z"
        },
        "trusted": true,
        "id": "9ltVXHuMvCDG",
        "colab": {
          "base_uri": "https://localhost:8080/"
        },
        "outputId": "c596ab78-58e2-44eb-a7f0-cfc1075ea10e"
      },
      "outputs": [
        {
          "output_type": "stream",
          "name": "stdout",
          "text": [
            "/bin/bash: line 1: nvidia-smi: command not found\n"
          ]
        }
      ],
      "execution_count": 8
    },
    {
      "cell_type": "code",
      "source": [
        "device = torch.device(\"cpu\")\n",
        "device"
      ],
      "metadata": {
        "execution": {
          "iopub.status.busy": "2023-11-17T02:08:29.999834Z",
          "iopub.execute_input": "2023-11-17T02:08:30.000264Z",
          "iopub.status.idle": "2023-11-17T02:08:30.078868Z",
          "shell.execute_reply.started": "2023-11-17T02:08:30.000226Z",
          "shell.execute_reply": "2023-11-17T02:08:30.077765Z"
        },
        "trusted": true,
        "id": "2hxYjnL0vCDG",
        "colab": {
          "base_uri": "https://localhost:8080/"
        },
        "outputId": "4bf02007-d7f7-4485-c315-dd321db478cf"
      },
      "outputs": [
        {
          "output_type": "execute_result",
          "data": {
            "text/plain": [
              "device(type='cpu')"
            ]
          },
          "metadata": {},
          "execution_count": 9
        }
      ],
      "execution_count": 9
    },
    {
      "cell_type": "code",
      "source": [
        "class DatasetCustom(Dataset):\n",
        "    def __init__(self, img_dir, label_dir, resize=None, transform=None):\n",
        "        self.img_dir = img_dir\n",
        "        self.label_dir = label_dir\n",
        "        self.resize = resize\n",
        "        self.transform = transform\n",
        "        self.images = os.listdir(self.img_dir)\n",
        "\n",
        "    def __len__(self):\n",
        "        return len(self.images)\n",
        "\n",
        "    def read_mask(self, mask_path):\n",
        "        image = cv2.imread(mask_path)\n",
        "        image = cv2.resize(image, self.resize)\n",
        "        image = cv2.cvtColor(image, cv2.COLOR_BGR2HSV)\n",
        "\n",
        "        lower_red1 = np.array([0, 100, 20])\n",
        "        upper_red1 = np.array([10, 255, 255])\n",
        "        lower_red2 = np.array([160,100,20])\n",
        "        upper_red2 = np.array([179,255,255])\n",
        "\n",
        "        lower_mask_red = cv2.inRange(image, lower_red1, upper_red1)\n",
        "        upper_mask_red = cv2.inRange(image, lower_red2, upper_red2)\n",
        "\n",
        "        red_mask = lower_mask_red + upper_mask_red\n",
        "        red_mask[red_mask != 0] = 1\n",
        "\n",
        "        green_mask = cv2.inRange(image, (36, 25, 25), (70, 255, 255))\n",
        "        green_mask[green_mask != 0] = 2\n",
        "\n",
        "        full_mask = cv2.bitwise_or(red_mask, green_mask)\n",
        "        full_mask = np.expand_dims(full_mask, axis=-1)\n",
        "        full_mask = full_mask.astype(np.uint8)\n",
        "\n",
        "        return full_mask\n",
        "\n",
        "    def __getitem__(self, idx):\n",
        "        img_path = os.path.join(self.img_dir, self.images[idx])\n",
        "        label_path = os.path.join(self.label_dir, self.images[idx])\n",
        "        image = cv2.imread(img_path)  #  BGR\n",
        "        image = cv2.cvtColor(image, cv2.COLOR_BGR2RGB) # Convert to RGB\n",
        "        label = self.read_mask(label_path)\n",
        "        image = cv2.resize(image, self.resize)\n",
        "        if self.transform:\n",
        "            image = self.transform(image)\n",
        "\n",
        "        return image, label"
      ],
      "metadata": {
        "execution": {
          "iopub.status.busy": "2023-11-17T02:08:33.782629Z",
          "iopub.execute_input": "2023-11-17T02:08:33.78348Z",
          "iopub.status.idle": "2023-11-17T02:08:33.796352Z",
          "shell.execute_reply.started": "2023-11-17T02:08:33.783447Z",
          "shell.execute_reply": "2023-11-17T02:08:33.795227Z"
        },
        "trusted": true,
        "id": "21ivZBhhvCDH"
      },
      "outputs": [],
      "execution_count": 10
    },
    {
      "cell_type": "code",
      "source": [
        "images_path = os.path.join(bkai_igh_neopolyp_path, \"train/train\")\n",
        "image_path = []\n",
        "TRAIN_DIR = os.path.join(bkai_igh_neopolyp_path, \"train/train\")\n",
        "for root, dirs, files in os.walk(TRAIN_DIR):\n",
        "    for file in files:\n",
        "        path = os.path.join(root,file)\n",
        "        image_path.append(path)\n",
        "\n",
        "len(image_path)"
      ],
      "metadata": {
        "execution": {
          "iopub.status.busy": "2023-11-17T02:08:36.701706Z",
          "iopub.execute_input": "2023-11-17T02:08:36.702381Z",
          "iopub.status.idle": "2023-11-17T02:08:37.051479Z",
          "shell.execute_reply.started": "2023-11-17T02:08:36.702346Z",
          "shell.execute_reply": "2023-11-17T02:08:37.050534Z"
        },
        "trusted": true,
        "id": "y0Fk3LrivCDI",
        "colab": {
          "base_uri": "https://localhost:8080/"
        },
        "outputId": "710acbfe-7fa9-43de-ec71-d54fa4ef6317"
      },
      "outputs": [
        {
          "output_type": "execute_result",
          "data": {
            "text/plain": [
              "1000"
            ]
          },
          "metadata": {},
          "execution_count": 11
        }
      ],
      "execution_count": 11
    },
    {
      "cell_type": "code",
      "source": [
        "mask_path = []\n",
        "TRAIN_MASK_DIR = os.path.join(bkai_igh_neopolyp_path, \"train_gt/train_gt\")\n",
        "for root, dirs, files in os.walk(TRAIN_MASK_DIR):\n",
        "    for file in files:\n",
        "        path = os.path.join(root,file)\n",
        "        mask_path.append(path)\n",
        "\n",
        "len(mask_path)"
      ],
      "metadata": {
        "execution": {
          "iopub.status.busy": "2023-11-17T02:08:39.53948Z",
          "iopub.execute_input": "2023-11-17T02:08:39.53981Z",
          "iopub.status.idle": "2023-11-17T02:08:39.940105Z",
          "shell.execute_reply.started": "2023-11-17T02:08:39.539786Z",
          "shell.execute_reply": "2023-11-17T02:08:39.939063Z"
        },
        "trusted": true,
        "id": "D_sxERthvCDJ",
        "colab": {
          "base_uri": "https://localhost:8080/"
        },
        "outputId": "2c9557c0-df3b-4228-c3fb-3702436fa368"
      },
      "outputs": [
        {
          "output_type": "execute_result",
          "data": {
            "text/plain": [
              "1000"
            ]
          },
          "metadata": {},
          "execution_count": 12
        }
      ],
      "execution_count": 12
    },
    {
      "cell_type": "code",
      "source": [
        "dataset = DatasetCustom(img_dir= TRAIN_DIR,\n",
        "                             label_dir= TRAIN_MASK_DIR,\n",
        "                             resize= (256,256),\n",
        "                             transform = None)"
      ],
      "metadata": {
        "execution": {
          "iopub.status.busy": "2023-11-17T02:08:41.850999Z",
          "iopub.execute_input": "2023-11-17T02:08:41.851714Z",
          "iopub.status.idle": "2023-11-17T02:08:41.858584Z",
          "shell.execute_reply.started": "2023-11-17T02:08:41.851679Z",
          "shell.execute_reply": "2023-11-17T02:08:41.857701Z"
        },
        "trusted": true,
        "id": "atcpR0uFvCDJ"
      },
      "outputs": [],
      "execution_count": 13
    },
    {
      "cell_type": "code",
      "source": [
        "batch_size = 32\n",
        "images_data = []\n",
        "labels_data = []\n",
        "for x,y in dataset:\n",
        "    images_data.append(x)\n",
        "    labels_data.append(y)"
      ],
      "metadata": {
        "execution": {
          "iopub.status.busy": "2023-11-17T02:08:44.290023Z",
          "iopub.execute_input": "2023-11-17T02:08:44.290762Z",
          "iopub.status.idle": "2023-11-17T02:09:21.559326Z",
          "shell.execute_reply.started": "2023-11-17T02:08:44.290728Z",
          "shell.execute_reply": "2023-11-17T02:09:21.558425Z"
        },
        "trusted": true,
        "id": "OL2csqtIvCDK"
      },
      "outputs": [],
      "execution_count": 14
    },
    {
      "cell_type": "code",
      "source": [
        "import segmentation_models_pytorch as smp\n",
        "\n",
        "model = smp.UnetPlusPlus(\n",
        "    encoder_name=\"resnet18\",\n",
        "    encoder_weights=\"imagenet\",\n",
        "    in_channels=3,\n",
        "    classes=3\n",
        ")"
      ],
      "metadata": {
        "execution": {
          "iopub.status.busy": "2023-11-17T02:09:30.159176Z",
          "iopub.execute_input": "2023-11-17T02:09:30.160107Z",
          "iopub.status.idle": "2023-11-17T02:09:30.832873Z",
          "shell.execute_reply.started": "2023-11-17T02:09:30.160067Z",
          "shell.execute_reply": "2023-11-17T02:09:30.831889Z"
        },
        "trusted": true,
        "id": "VMAhOJl1vCDK",
        "colab": {
          "base_uri": "https://localhost:8080/"
        },
        "outputId": "10e5d1c6-5bfd-44b5-843b-adf4d8df9d9e"
      },
      "outputs": [
        {
          "output_type": "stream",
          "name": "stderr",
          "text": [
            "Downloading: \"https://download.pytorch.org/models/resnet18-5c106cde.pth\" to /root/.cache/torch/hub/checkpoints/resnet18-5c106cde.pth\n",
            "100%|██████████| 44.7M/44.7M [00:00<00:00, 70.2MB/s]\n"
          ]
        }
      ],
      "execution_count": 15
    },
    {
      "cell_type": "code",
      "source": [
        "class CustomDataset(Dataset):\n",
        "    def __init__(self, data, targets, transform=None):\n",
        "        self.data = data\n",
        "        self.targets = targets\n",
        "        self.transform = transform\n",
        "\n",
        "    def __getitem__(self, index):\n",
        "        image = self.data[index]\n",
        "        label = self.targets[index]\n",
        "        assert image.shape[:2] == label.shape[:2]\n",
        "        if self.transform:\n",
        "            transformed = self.transform(image=image, mask=label)\n",
        "            image = transformed['image'].float()\n",
        "            label = transformed['mask'].float()\n",
        "            label = label.permute(2, 0, 1)\n",
        "        return image, label\n",
        "\n",
        "    def __len__(self):\n",
        "        return len(self.data)"
      ],
      "metadata": {
        "execution": {
          "iopub.status.busy": "2023-11-17T02:09:45.084564Z",
          "iopub.execute_input": "2023-11-17T02:09:45.085235Z",
          "iopub.status.idle": "2023-11-17T02:09:45.092741Z",
          "shell.execute_reply.started": "2023-11-17T02:09:45.085201Z",
          "shell.execute_reply": "2023-11-17T02:09:45.091773Z"
        },
        "trusted": true,
        "id": "IwchMRfivCDK"
      },
      "outputs": [],
      "execution_count": 16
    },
    {
      "cell_type": "code",
      "source": [
        "train_transformation = A.Compose([\n",
        "    A.HorizontalFlip(p=0.4),\n",
        "    A.VerticalFlip(p=0.4),\n",
        "    A.RandomGamma (gamma_limit=(70, 130), eps=None, always_apply=False, p=0.2),\n",
        "    A.RGBShift(p=0.3, r_shift_limit=10, g_shift_limit=10, b_shift_limit=10),\n",
        "    A.Normalize(mean=(0.485, 0.456, 0.406), std=(0.229, 0.224, 0.225)),\n",
        "    ToTensorV2(),\n",
        "])\n",
        "\n",
        "val_transformation = A.Compose([\n",
        "    A.Normalize(mean=(0.485, 0.456, 0.406),std=(0.229, 0.224, 0.225)),\n",
        "    ToTensorV2(),\n",
        "])"
      ],
      "metadata": {
        "execution": {
          "iopub.status.busy": "2023-11-17T02:09:51.594364Z",
          "iopub.execute_input": "2023-11-17T02:09:51.594752Z",
          "iopub.status.idle": "2023-11-17T02:09:51.603421Z",
          "shell.execute_reply.started": "2023-11-17T02:09:51.594721Z",
          "shell.execute_reply": "2023-11-17T02:09:51.602243Z"
        },
        "trusted": true,
        "id": "-wHUKGRzvCDL",
        "colab": {
          "base_uri": "https://localhost:8080/"
        },
        "outputId": "f645fb52-a431-4724-9b96-0c06df98ae1b"
      },
      "outputs": [
        {
          "output_type": "stream",
          "name": "stderr",
          "text": [
            "<ipython-input-17-d765f530c16c>:4: UserWarning: Argument 'eps' is not valid and will be ignored.\n",
            "  A.RandomGamma (gamma_limit=(70, 130), eps=None, always_apply=False, p=0.2),\n"
          ]
        }
      ],
      "execution_count": 17
    },
    {
      "cell_type": "code",
      "source": [
        "train_size = int(0.8 * len(images_data))\n",
        "val_size = len(images_data) - train_size\n",
        "train_dataset = CustomDataset(images_data[:train_size], labels_data[:train_size], transform=train_transformation)\n",
        "val_dataset = CustomDataset(images_data[train_size:], labels_data[train_size:], transform=val_transformation)\n",
        "\n",
        "train_loader = DataLoader(train_dataset, batch_size=batch_size, shuffle=True)\n",
        "val_loader = DataLoader(val_dataset, batch_size=batch_size, shuffle=True)"
      ],
      "metadata": {
        "execution": {
          "iopub.status.busy": "2023-11-17T02:09:53.733228Z",
          "iopub.execute_input": "2023-11-17T02:09:53.733959Z",
          "iopub.status.idle": "2023-11-17T02:09:53.740729Z",
          "shell.execute_reply.started": "2023-11-17T02:09:53.733928Z",
          "shell.execute_reply": "2023-11-17T02:09:53.739448Z"
        },
        "trusted": true,
        "id": "M4PplOUVvCDL"
      },
      "outputs": [],
      "execution_count": 18
    },
    {
      "cell_type": "code",
      "source": [
        "learning_rate = 0.0001\n",
        "optimizer = optim.Adam(model.parameters(), lr=learning_rate)"
      ],
      "metadata": {
        "execution": {
          "iopub.status.busy": "2023-11-17T02:09:55.912614Z",
          "iopub.execute_input": "2023-11-17T02:09:55.912969Z",
          "iopub.status.idle": "2023-11-17T02:09:55.919074Z",
          "shell.execute_reply.started": "2023-11-17T02:09:55.912939Z",
          "shell.execute_reply": "2023-11-17T02:09:55.918079Z"
        },
        "trusted": true,
        "id": "O8hr_OX7vCDL"
      },
      "outputs": [],
      "execution_count": 19
    },
    {
      "cell_type": "code",
      "source": [
        "color_dict= {0: (0, 0, 0),\n",
        "             1: (255, 0, 0),\n",
        "             2: (0, 255, 0)}\n",
        "def mask_to_rgb(mask, color_dict):\n",
        "    output = np.zeros((mask.shape[0], mask.shape[1], 3))\n",
        "\n",
        "    for k in color_dict.keys():\n",
        "        output[mask==k] = color_dict[k]\n",
        "\n",
        "    return np.uint8(output)"
      ],
      "metadata": {
        "execution": {
          "iopub.status.busy": "2023-11-17T02:09:57.558012Z",
          "iopub.execute_input": "2023-11-17T02:09:57.558467Z",
          "iopub.status.idle": "2023-11-17T02:09:57.565142Z",
          "shell.execute_reply.started": "2023-11-17T02:09:57.558386Z",
          "shell.execute_reply": "2023-11-17T02:09:57.564044Z"
        },
        "trusted": true,
        "id": "t_WHJeSavCDL"
      },
      "outputs": [],
      "execution_count": 20
    },
    {
      "cell_type": "code",
      "source": [
        "wandb.login(\n",
        "    # set the wandb project where this run will be logged\n",
        "#     project= \"PolypSegment\",\n",
        "    key = \"a752a545bfe8aec7b9d44039b5ca214bd32c26e5\",\n",
        ")\n",
        "wandb.init(\n",
        "    project = \"polypsegment\"\n",
        ")"
      ],
      "metadata": {
        "execution": {
          "iopub.status.busy": "2023-11-17T02:11:17.489991Z",
          "iopub.execute_input": "2023-11-17T02:11:17.490395Z",
          "iopub.status.idle": "2023-11-17T02:11:48.797232Z",
          "shell.execute_reply.started": "2023-11-17T02:11:17.490362Z",
          "shell.execute_reply": "2023-11-17T02:11:48.795966Z"
        },
        "trusted": true,
        "id": "ExP1AVh9vCDL",
        "colab": {
          "base_uri": "https://localhost:8080/",
          "height": 249
        },
        "outputId": "6f869714-58bc-4fb3-af98-b5664049adc6"
      },
      "outputs": [
        {
          "output_type": "stream",
          "name": "stderr",
          "text": [
            "\u001b[34m\u001b[1mwandb\u001b[0m: \u001b[33mWARNING\u001b[0m Calling wandb.login() after wandb.init() has no effect.\n"
          ]
        },
        {
          "output_type": "display_data",
          "data": {
            "text/plain": [
              "<IPython.core.display.HTML object>"
            ],
            "text/html": [
              "Finishing last run (ID:4xzhv30h) before initializing another..."
            ]
          },
          "metadata": {}
        },
        {
          "output_type": "display_data",
          "data": {
            "text/plain": [
              "<IPython.core.display.HTML object>"
            ],
            "text/html": [
              " View run <strong style=\"color:#cdcd00\">iconic-cherry-14</strong> at: <a href='https://wandb.ai/tranvuong8624-hanoi-university-of-science-and-technology/polypsegment/runs/4xzhv30h' target=\"_blank\">https://wandb.ai/tranvuong8624-hanoi-university-of-science-and-technology/polypsegment/runs/4xzhv30h</a><br/> View project at: <a href='https://wandb.ai/tranvuong8624-hanoi-university-of-science-and-technology/polypsegment' target=\"_blank\">https://wandb.ai/tranvuong8624-hanoi-university-of-science-and-technology/polypsegment</a><br/>Synced 5 W&B file(s), 0 media file(s), 0 artifact file(s) and 0 other file(s)"
            ]
          },
          "metadata": {}
        },
        {
          "output_type": "display_data",
          "data": {
            "text/plain": [
              "<IPython.core.display.HTML object>"
            ],
            "text/html": [
              "Find logs at: <code>./wandb/run-20241123_184146-4xzhv30h/logs</code>"
            ]
          },
          "metadata": {}
        },
        {
          "output_type": "display_data",
          "data": {
            "text/plain": [
              "<IPython.core.display.HTML object>"
            ],
            "text/html": [
              "Successfully finished last run (ID:4xzhv30h). Initializing new run:<br/>"
            ]
          },
          "metadata": {}
        },
        {
          "output_type": "display_data",
          "data": {
            "text/plain": [
              "<IPython.core.display.HTML object>"
            ],
            "text/html": [
              "Tracking run with wandb version 0.18.7"
            ]
          },
          "metadata": {}
        },
        {
          "output_type": "display_data",
          "data": {
            "text/plain": [
              "<IPython.core.display.HTML object>"
            ],
            "text/html": [
              "Run data is saved locally in <code>/content/wandb/run-20241123_184352-osp2xolp</code>"
            ]
          },
          "metadata": {}
        },
        {
          "output_type": "display_data",
          "data": {
            "text/plain": [
              "<IPython.core.display.HTML object>"
            ],
            "text/html": [
              "Syncing run <strong><a href='https://wandb.ai/tranvuong8624-hanoi-university-of-science-and-technology/polypsegment/runs/osp2xolp' target=\"_blank\">classic-valley-15</a></strong> to <a href='https://wandb.ai/tranvuong8624-hanoi-university-of-science-and-technology/polypsegment' target=\"_blank\">Weights & Biases</a> (<a href='https://wandb.me/developer-guide' target=\"_blank\">docs</a>)<br/>"
            ]
          },
          "metadata": {}
        },
        {
          "output_type": "display_data",
          "data": {
            "text/plain": [
              "<IPython.core.display.HTML object>"
            ],
            "text/html": [
              " View project at <a href='https://wandb.ai/tranvuong8624-hanoi-university-of-science-and-technology/polypsegment' target=\"_blank\">https://wandb.ai/tranvuong8624-hanoi-university-of-science-and-technology/polypsegment</a>"
            ]
          },
          "metadata": {}
        },
        {
          "output_type": "display_data",
          "data": {
            "text/plain": [
              "<IPython.core.display.HTML object>"
            ],
            "text/html": [
              " View run at <a href='https://wandb.ai/tranvuong8624-hanoi-university-of-science-and-technology/polypsegment/runs/osp2xolp' target=\"_blank\">https://wandb.ai/tranvuong8624-hanoi-university-of-science-and-technology/polypsegment/runs/osp2xolp</a>"
            ]
          },
          "metadata": {}
        },
        {
          "output_type": "execute_result",
          "data": {
            "text/html": [
              "<button onClick=\"this.nextSibling.style.display='block';this.style.display='none';\">Display W&B run</button><iframe src='https://wandb.ai/tranvuong8624-hanoi-university-of-science-and-technology/polypsegment/runs/osp2xolp?jupyter=true' style='border:none;width:100%;height:420px;display:none;'></iframe>"
            ],
            "text/plain": [
              "<wandb.sdk.wandb_run.Run at 0x7ae5dac3f5b0>"
            ]
          },
          "metadata": {},
          "execution_count": 136
        }
      ],
      "execution_count": null
    },
    {
      "cell_type": "code",
      "source": [
        "!pip install tqdm\n"
      ],
      "metadata": {
        "execution": {
          "iopub.status.busy": "2023-11-17T02:13:07.363347Z",
          "iopub.execute_input": "2023-11-17T02:13:07.363707Z",
          "iopub.status.idle": "2023-11-17T02:13:19.424202Z",
          "shell.execute_reply.started": "2023-11-17T02:13:07.363676Z",
          "shell.execute_reply": "2023-11-17T02:13:19.423075Z"
        },
        "trusted": true,
        "id": "iYjWfvD7vCDL",
        "colab": {
          "base_uri": "https://localhost:8080/"
        },
        "outputId": "578cc5d7-b76e-4d29-bb8d-b53f9d176d44"
      },
      "outputs": [
        {
          "output_type": "stream",
          "name": "stdout",
          "text": [
            "Requirement already satisfied: tqdm in /usr/local/lib/python3.10/dist-packages (4.66.6)\n"
          ]
        }
      ],
      "execution_count": null
    },
    {
      "cell_type": "code",
      "source": [
        "from tqdm import tqdm\n",
        "import time\n",
        "\n",
        "num_epochs = 200\n",
        "\n",
        "device = torch.device('cuda' if torch.cuda.is_available() else \"cpu\")\n",
        "model.to(device)\n",
        "criterion = nn.CrossEntropyLoss()\n",
        "best_val_loss = 999\n",
        "\n",
        "epoch_bar = tqdm(total=num_epochs, desc='Total Progress')\n",
        "\n",
        "for epoch in range(num_epochs):\n",
        "    model.train()\n",
        "    train_loss = 0\n",
        "    for images, labels in train_loader:\n",
        "        images = images.to(device)\n",
        "        labels = labels.to(device)\n",
        "\n",
        "        labels = labels.squeeze(dim=1).long()\n",
        "        outputs = model(images)\n",
        "\n",
        "        loss = criterion(outputs, labels)\n",
        "        loss.backward()\n",
        "        optimizer.step()\n",
        "        optimizer.zero_grad()\n",
        "        train_loss += loss.item()\n",
        "    model.eval()\n",
        "    with torch.no_grad():\n",
        "        val_loss = 0\n",
        "        for images, labels in val_loader:\n",
        "            images = images.to(device)\n",
        "            labels = labels.to(device)\n",
        "            labels = labels.squeeze(dim=1).long()\n",
        "\n",
        "            outputs = model(images)\n",
        "\n",
        "            val_loss += criterion(outputs.float(),labels.long()).item()\n",
        "\n",
        "    print(f\"Epoch [{epoch+1}/{num_epochs}], Loss: {val_loss/len(val_loader):.10f}\")\n",
        "    if val_loss < best_val_loss:\n",
        "        best_val_loss = val_loss\n",
        "        checkpoint = {\n",
        "            'epoch': epoch,\n",
        "            'model': model.state_dict(),\n",
        "            'optimizer': optimizer.state_dict(),\n",
        "            'loss': val_loss,\n",
        "        }\n",
        "        save_path = f'model.pth'\n",
        "        torch.save(checkpoint, save_path)\n",
        "\n",
        "    epoch_bar.update(1)\n",
        "    wandb.log({'Val_loss': val_loss/len(val_loader),'Train_loss': train_loss/len(train_loader)})\n",
        "epoch_bar.close()"
      ],
      "metadata": {
        "execution": {
          "iopub.status.busy": "2023-11-17T02:23:56.776775Z",
          "iopub.execute_input": "2023-11-17T02:23:56.777569Z",
          "iopub.status.idle": "2023-11-17T04:20:45.420171Z",
          "shell.execute_reply.started": "2023-11-17T02:23:56.777537Z",
          "shell.execute_reply": "2023-11-17T04:20:45.419297Z"
        },
        "trusted": true,
        "id": "3eLkHk03vCDL",
        "colab": {
          "base_uri": "https://localhost:8080/"
        },
        "outputId": "88b0a207-e6ca-4bd3-8d47-1b8b430c5b82"
      },
      "outputs": [
        {
          "output_type": "stream",
          "name": "stderr",
          "text": [
            "\n",
            "Total Progress:   0%|          | 0/200 [00:00<?, ?it/s]\u001b[A/usr/local/lib/python3.10/dist-packages/wandb/sdk/wandb_run.py:2380: UserWarning: Run (4xzhv30h) is finished. The call to `_console_raw_callback` will be ignored. Please make sure that you are using an active run.\n",
            "  lambda data: self._console_raw_callback(\"stderr\", data),\n",
            "Total Progress:   0%|          | 0/200 [02:04<?, ?it/s]\n"
          ]
        },
        {
          "output_type": "stream",
          "name": "stdout",
          "text": [
            "Epoch [1/200], Loss: 1.0748184834\n"
          ]
        },
        {
          "output_type": "stream",
          "name": "stderr",
          "text": [
            "\n",
            "Total Progress:   0%|          | 1/200 [00:24<1:21:22, 24.53s/it]\u001b[A"
          ]
        },
        {
          "output_type": "stream",
          "name": "stdout",
          "text": [
            "Epoch [2/200], Loss: 0.5467036196\n"
          ]
        },
        {
          "output_type": "stream",
          "name": "stderr",
          "text": [
            "\n",
            "Total Progress:   1%|          | 2/200 [00:46<1:15:35, 22.90s/it]\u001b[A"
          ]
        },
        {
          "output_type": "stream",
          "name": "stdout",
          "text": [
            "Epoch [3/200], Loss: 0.4519230766\n"
          ]
        },
        {
          "output_type": "stream",
          "name": "stderr",
          "text": [
            "\n",
            "Total Progress:   2%|▏         | 3/200 [01:08<1:13:55, 22.52s/it]\u001b[A"
          ]
        },
        {
          "output_type": "stream",
          "name": "stdout",
          "text": [
            "Epoch [4/200], Loss: 0.3893379697\n"
          ]
        },
        {
          "output_type": "stream",
          "name": "stderr",
          "text": [
            "\n",
            "Total Progress:   2%|▏         | 4/200 [01:30<1:13:13, 22.42s/it]\u001b[A"
          ]
        },
        {
          "output_type": "stream",
          "name": "stdout",
          "text": [
            "Epoch [5/200], Loss: 0.3195559808\n"
          ]
        },
        {
          "output_type": "stream",
          "name": "stderr",
          "text": [
            "\n",
            "Total Progress:   2%|▎         | 5/200 [01:54<1:14:39, 22.97s/it]\u001b[A"
          ]
        },
        {
          "output_type": "stream",
          "name": "stdout",
          "text": [
            "Epoch [6/200], Loss: 0.2753322976\n"
          ]
        },
        {
          "output_type": "stream",
          "name": "stderr",
          "text": [
            "\n",
            "Total Progress:   3%|▎         | 6/200 [02:18<1:14:51, 23.15s/it]\u001b[A"
          ]
        },
        {
          "output_type": "stream",
          "name": "stdout",
          "text": [
            "Epoch [7/200], Loss: 0.2479593009\n"
          ]
        },
        {
          "output_type": "stream",
          "name": "stderr",
          "text": [
            "\n",
            "Total Progress:   4%|▎         | 7/200 [02:41<1:14:34, 23.18s/it]\u001b[A"
          ]
        },
        {
          "output_type": "stream",
          "name": "stdout",
          "text": [
            "Epoch [8/200], Loss: 0.2144820882\n"
          ]
        },
        {
          "output_type": "stream",
          "name": "stderr",
          "text": [
            "\n",
            "Total Progress:   4%|▍         | 8/200 [03:04<1:13:47, 23.06s/it]\u001b[A"
          ]
        },
        {
          "output_type": "stream",
          "name": "stdout",
          "text": [
            "Epoch [9/200], Loss: 0.1897986489\n"
          ]
        },
        {
          "output_type": "stream",
          "name": "stderr",
          "text": [
            "\n",
            "Total Progress:   4%|▍         | 9/200 [03:27<1:13:32, 23.10s/it]\u001b[A\n",
            "Total Progress:   5%|▌         | 10/200 [03:49<1:12:41, 22.96s/it]\u001b[A"
          ]
        },
        {
          "output_type": "stream",
          "name": "stdout",
          "text": [
            "Epoch [10/200], Loss: 0.1950357450\n",
            "Epoch [11/200], Loss: 0.1572954633\n"
          ]
        },
        {
          "output_type": "stream",
          "name": "stderr",
          "text": [
            "\n",
            "Total Progress:   6%|▌         | 11/200 [04:12<1:12:24, 22.98s/it]\u001b[A"
          ]
        },
        {
          "output_type": "stream",
          "name": "stdout",
          "text": [
            "Epoch [12/200], Loss: 0.1451722362\n"
          ]
        },
        {
          "output_type": "stream",
          "name": "stderr",
          "text": [
            "\n",
            "Total Progress:   6%|▌         | 12/200 [04:36<1:12:06, 23.01s/it]\u001b[A\n",
            "Total Progress:   6%|▋         | 13/200 [04:58<1:11:18, 22.88s/it]\u001b[A"
          ]
        },
        {
          "output_type": "stream",
          "name": "stdout",
          "text": [
            "Epoch [13/200], Loss: 0.1513619732\n",
            "Epoch [14/200], Loss: 0.1318342739\n"
          ]
        },
        {
          "output_type": "stream",
          "name": "stderr",
          "text": [
            "\n",
            "Total Progress:   7%|▋         | 14/200 [05:21<1:11:06, 22.94s/it]\u001b[A"
          ]
        },
        {
          "output_type": "stream",
          "name": "stdout",
          "text": [
            "Epoch [15/200], Loss: 0.1212773898\n"
          ]
        },
        {
          "output_type": "stream",
          "name": "stderr",
          "text": [
            "\n",
            "Total Progress:   8%|▊         | 15/200 [05:44<1:10:40, 22.92s/it]\u001b[A"
          ]
        },
        {
          "output_type": "stream",
          "name": "stdout",
          "text": [
            "Epoch [16/200], Loss: 0.1167524319\n"
          ]
        },
        {
          "output_type": "stream",
          "name": "stderr",
          "text": [
            "\n",
            "Total Progress:   8%|▊         | 16/200 [06:07<1:10:35, 23.02s/it]\u001b[A"
          ]
        },
        {
          "output_type": "stream",
          "name": "stdout",
          "text": [
            "Epoch [17/200], Loss: 0.1116531183\n"
          ]
        },
        {
          "output_type": "stream",
          "name": "stderr",
          "text": [
            "\n",
            "Total Progress:   8%|▊         | 17/200 [06:30<1:10:13, 23.02s/it]\u001b[A"
          ]
        },
        {
          "output_type": "stream",
          "name": "stdout",
          "text": [
            "Epoch [18/200], Loss: 0.1026967232\n"
          ]
        },
        {
          "output_type": "stream",
          "name": "stderr",
          "text": [
            "\n",
            "Total Progress:   9%|▉         | 18/200 [06:53<1:09:52, 23.03s/it]\u001b[A"
          ]
        },
        {
          "output_type": "stream",
          "name": "stdout",
          "text": [
            "Epoch [19/200], Loss: 0.1004308813\n"
          ]
        },
        {
          "output_type": "stream",
          "name": "stderr",
          "text": [
            "\n",
            "Total Progress:  10%|▉         | 19/200 [07:17<1:09:32, 23.05s/it]\u001b[A"
          ]
        },
        {
          "output_type": "stream",
          "name": "stdout",
          "text": [
            "Epoch [20/200], Loss: 0.0992330760\n"
          ]
        },
        {
          "output_type": "stream",
          "name": "stderr",
          "text": [
            "\n",
            "Total Progress:  10%|█         | 20/200 [07:40<1:09:23, 23.13s/it]\u001b[A"
          ]
        },
        {
          "output_type": "stream",
          "name": "stdout",
          "text": [
            "Epoch [21/200], Loss: 0.0957928076\n"
          ]
        },
        {
          "output_type": "stream",
          "name": "stderr",
          "text": [
            "\n",
            "Total Progress:  10%|█         | 21/200 [08:03<1:08:56, 23.11s/it]\u001b[A"
          ]
        },
        {
          "output_type": "stream",
          "name": "stdout",
          "text": [
            "Epoch [22/200], Loss: 0.0924147144\n"
          ]
        },
        {
          "output_type": "stream",
          "name": "stderr",
          "text": [
            "\n",
            "Total Progress:  11%|█         | 22/200 [08:26<1:08:32, 23.11s/it]\u001b[A\n",
            "Total Progress:  12%|█▏        | 23/200 [08:49<1:07:45, 22.97s/it]\u001b[A"
          ]
        },
        {
          "output_type": "stream",
          "name": "stdout",
          "text": [
            "Epoch [23/200], Loss: 0.0938966636\n",
            "Epoch [24/200], Loss: 0.0823668391\n"
          ]
        },
        {
          "output_type": "stream",
          "name": "stderr",
          "text": [
            "\n",
            "Total Progress:  12%|█▏        | 24/200 [09:12<1:07:26, 22.99s/it]\u001b[A"
          ]
        },
        {
          "output_type": "stream",
          "name": "stdout",
          "text": [
            "Epoch [25/200], Loss: 0.0809027904\n"
          ]
        },
        {
          "output_type": "stream",
          "name": "stderr",
          "text": [
            "\n",
            "Total Progress:  12%|█▎        | 25/200 [09:35<1:06:59, 22.97s/it]\u001b[A"
          ]
        },
        {
          "output_type": "stream",
          "name": "stdout",
          "text": [
            "Epoch [26/200], Loss: 0.0805086275\n"
          ]
        },
        {
          "output_type": "stream",
          "name": "stderr",
          "text": [
            "\n",
            "Total Progress:  13%|█▎        | 26/200 [09:58<1:06:36, 22.97s/it]\u001b[A"
          ]
        },
        {
          "output_type": "stream",
          "name": "stdout",
          "text": [
            "Epoch [27/200], Loss: 0.0787040224\n"
          ]
        },
        {
          "output_type": "stream",
          "name": "stderr",
          "text": [
            "\n",
            "Total Progress:  14%|█▎        | 27/200 [10:21<1:06:30, 23.07s/it]\u001b[A"
          ]
        },
        {
          "output_type": "stream",
          "name": "stdout",
          "text": [
            "Epoch [28/200], Loss: 0.0763959406\n"
          ]
        },
        {
          "output_type": "stream",
          "name": "stderr",
          "text": [
            "\n",
            "Total Progress:  14%|█▍        | 28/200 [10:44<1:06:06, 23.06s/it]\u001b[A\n",
            "Total Progress:  14%|█▍        | 29/200 [11:07<1:05:21, 22.93s/it]\u001b[A"
          ]
        },
        {
          "output_type": "stream",
          "name": "stdout",
          "text": [
            "Epoch [29/200], Loss: 0.0820044641\n",
            "Epoch [30/200], Loss: 0.0727757189\n"
          ]
        },
        {
          "output_type": "stream",
          "name": "stderr",
          "text": [
            "\n",
            "Total Progress:  15%|█▌        | 30/200 [11:30<1:05:06, 22.98s/it]\u001b[A\n",
            "Total Progress:  16%|█▌        | 31/200 [11:52<1:04:24, 22.87s/it]\u001b[A"
          ]
        },
        {
          "output_type": "stream",
          "name": "stdout",
          "text": [
            "Epoch [31/200], Loss: 0.0777942538\n",
            "Epoch [32/200], Loss: 0.0692639580\n"
          ]
        },
        {
          "output_type": "stream",
          "name": "stderr",
          "text": [
            "\n",
            "Total Progress:  16%|█▌        | 32/200 [12:15<1:04:11, 22.92s/it]\u001b[A\n",
            "Total Progress:  16%|█▋        | 33/200 [12:38<1:03:32, 22.83s/it]\u001b[A"
          ]
        },
        {
          "output_type": "stream",
          "name": "stdout",
          "text": [
            "Epoch [33/200], Loss: 0.0789973385\n"
          ]
        },
        {
          "output_type": "stream",
          "name": "stderr",
          "text": [
            "\n",
            "Total Progress:  17%|█▋        | 34/200 [13:01<1:03:01, 22.78s/it]\u001b[A"
          ]
        },
        {
          "output_type": "stream",
          "name": "stdout",
          "text": [
            "Epoch [34/200], Loss: 0.0736235955\n"
          ]
        },
        {
          "output_type": "stream",
          "name": "stderr",
          "text": [
            "\n",
            "Total Progress:  18%|█▊        | 35/200 [13:23<1:02:29, 22.73s/it]\u001b[A"
          ]
        },
        {
          "output_type": "stream",
          "name": "stdout",
          "text": [
            "Epoch [35/200], Loss: 0.0720536932\n",
            "Epoch [36/200], Loss: 0.0666576619\n"
          ]
        },
        {
          "output_type": "stream",
          "name": "stderr",
          "text": [
            "\n",
            "Total Progress:  18%|█▊        | 36/200 [13:46<1:02:21, 22.81s/it]\u001b[A\n",
            "Total Progress:  18%|█▊        | 37/200 [14:09<1:01:50, 22.76s/it]\u001b[A"
          ]
        },
        {
          "output_type": "stream",
          "name": "stdout",
          "text": [
            "Epoch [37/200], Loss: 0.0936975101\n"
          ]
        },
        {
          "output_type": "stream",
          "name": "stderr",
          "text": [
            "\n",
            "Total Progress:  19%|█▉        | 38/200 [14:31<1:01:19, 22.71s/it]\u001b[A"
          ]
        },
        {
          "output_type": "stream",
          "name": "stdout",
          "text": [
            "Epoch [38/200], Loss: 0.0687136906\n",
            "Epoch [39/200], Loss: 0.0649748743\n"
          ]
        },
        {
          "output_type": "stream",
          "name": "stderr",
          "text": [
            "\n",
            "Total Progress:  20%|█▉        | 39/200 [14:54<1:01:12, 22.81s/it]\u001b[A\n",
            "Total Progress:  20%|██        | 40/200 [15:17<1:00:38, 22.74s/it]\u001b[A"
          ]
        },
        {
          "output_type": "stream",
          "name": "stdout",
          "text": [
            "Epoch [40/200], Loss: 0.0716587725\n"
          ]
        },
        {
          "output_type": "stream",
          "name": "stderr",
          "text": [
            "\n",
            "Total Progress:  20%|██        | 41/200 [15:40<1:00:09, 22.70s/it]\u001b[A"
          ]
        },
        {
          "output_type": "stream",
          "name": "stdout",
          "text": [
            "Epoch [41/200], Loss: 0.0684804895\n"
          ]
        },
        {
          "output_type": "stream",
          "name": "stderr",
          "text": [
            "\n",
            "Total Progress:  21%|██        | 42/200 [16:02<59:43, 22.68s/it]  \u001b[A"
          ]
        },
        {
          "output_type": "stream",
          "name": "stdout",
          "text": [
            "Epoch [42/200], Loss: 0.0666038202\n",
            "Epoch [43/200], Loss: 0.0634975620\n"
          ]
        },
        {
          "output_type": "stream",
          "name": "stderr",
          "text": [
            "\n",
            "Total Progress:  22%|██▏       | 43/200 [16:25<59:35, 22.78s/it]\u001b[A\n",
            "Total Progress:  22%|██▏       | 44/200 [16:48<59:07, 22.74s/it]\u001b[A"
          ]
        },
        {
          "output_type": "stream",
          "name": "stdout",
          "text": [
            "Epoch [44/200], Loss: 0.0641638599\n"
          ]
        },
        {
          "output_type": "stream",
          "name": "stderr",
          "text": [
            "\n",
            "Total Progress:  22%|██▎       | 45/200 [17:11<58:37, 22.70s/it]\u001b[A"
          ]
        },
        {
          "output_type": "stream",
          "name": "stdout",
          "text": [
            "Epoch [45/200], Loss: 0.0671036451\n",
            "Epoch [46/200], Loss: 0.0629719070\n"
          ]
        },
        {
          "output_type": "stream",
          "name": "stderr",
          "text": [
            "\n",
            "Total Progress:  23%|██▎       | 46/200 [17:34<58:28, 22.78s/it]\u001b[A\n",
            "Total Progress:  24%|██▎       | 47/200 [17:56<57:54, 22.71s/it]\u001b[A"
          ]
        },
        {
          "output_type": "stream",
          "name": "stdout",
          "text": [
            "Epoch [47/200], Loss: 0.0637649058\n"
          ]
        },
        {
          "output_type": "stream",
          "name": "stderr",
          "text": [
            "\n",
            "Total Progress:  24%|██▍       | 48/200 [18:19<57:25, 22.67s/it]\u001b[A"
          ]
        },
        {
          "output_type": "stream",
          "name": "stdout",
          "text": [
            "Epoch [48/200], Loss: 0.0675076523\n"
          ]
        },
        {
          "output_type": "stream",
          "name": "stderr",
          "text": [
            "\n",
            "Total Progress:  24%|██▍       | 49/200 [18:41<57:00, 22.66s/it]\u001b[A"
          ]
        },
        {
          "output_type": "stream",
          "name": "stdout",
          "text": [
            "Epoch [49/200], Loss: 0.0640366860\n"
          ]
        },
        {
          "output_type": "stream",
          "name": "stderr",
          "text": [
            "\n",
            "Total Progress:  25%|██▌       | 50/200 [19:04<56:33, 22.62s/it]\u001b[A"
          ]
        },
        {
          "output_type": "stream",
          "name": "stdout",
          "text": [
            "Epoch [50/200], Loss: 0.0652032511\n"
          ]
        },
        {
          "output_type": "stream",
          "name": "stderr",
          "text": [
            "\n",
            "Total Progress:  26%|██▌       | 51/200 [19:26<56:08, 22.60s/it]\u001b[A"
          ]
        },
        {
          "output_type": "stream",
          "name": "stdout",
          "text": [
            "Epoch [51/200], Loss: 0.0637784073\n",
            "Epoch [52/200], Loss: 0.0601930850\n"
          ]
        },
        {
          "output_type": "stream",
          "name": "stderr",
          "text": [
            "\n",
            "Total Progress:  26%|██▌       | 52/200 [19:49<56:04, 22.73s/it]\u001b[A\n",
            "Total Progress:  26%|██▋       | 53/200 [20:12<55:36, 22.70s/it]\u001b[A"
          ]
        },
        {
          "output_type": "stream",
          "name": "stdout",
          "text": [
            "Epoch [53/200], Loss: 0.0609721329\n"
          ]
        },
        {
          "output_type": "stream",
          "name": "stderr",
          "text": [
            "\n",
            "Total Progress:  27%|██▋       | 54/200 [20:35<55:11, 22.68s/it]\u001b[A"
          ]
        },
        {
          "output_type": "stream",
          "name": "stdout",
          "text": [
            "Epoch [54/200], Loss: 0.0626122260\n"
          ]
        },
        {
          "output_type": "stream",
          "name": "stderr",
          "text": [
            "\n",
            "Total Progress:  28%|██▊       | 55/200 [20:57<54:41, 22.63s/it]\u001b[A"
          ]
        },
        {
          "output_type": "stream",
          "name": "stdout",
          "text": [
            "Epoch [55/200], Loss: 0.0606344566\n"
          ]
        },
        {
          "output_type": "stream",
          "name": "stderr",
          "text": [
            "\n",
            "Total Progress:  28%|██▊       | 56/200 [21:20<54:15, 22.61s/it]\u001b[A"
          ]
        },
        {
          "output_type": "stream",
          "name": "stdout",
          "text": [
            "Epoch [56/200], Loss: 0.0643741169\n"
          ]
        },
        {
          "output_type": "stream",
          "name": "stderr",
          "text": [
            "\n",
            "Total Progress:  28%|██▊       | 57/200 [21:42<53:50, 22.59s/it]\u001b[A"
          ]
        },
        {
          "output_type": "stream",
          "name": "stdout",
          "text": [
            "Epoch [57/200], Loss: 0.0665083277\n"
          ]
        },
        {
          "output_type": "stream",
          "name": "stderr",
          "text": [
            "\n",
            "Total Progress:  29%|██▉       | 58/200 [22:05<53:27, 22.59s/it]\u001b[A"
          ]
        },
        {
          "output_type": "stream",
          "name": "stdout",
          "text": [
            "Epoch [58/200], Loss: 0.0624194512\n"
          ]
        },
        {
          "output_type": "stream",
          "name": "stderr",
          "text": [
            "\n",
            "Total Progress:  30%|██▉       | 59/200 [22:27<53:03, 22.58s/it]\u001b[A"
          ]
        },
        {
          "output_type": "stream",
          "name": "stdout",
          "text": [
            "Epoch [59/200], Loss: 0.0664686614\n"
          ]
        },
        {
          "output_type": "stream",
          "name": "stderr",
          "text": [
            "\n",
            "Total Progress:  30%|███       | 60/200 [22:50<52:42, 22.59s/it]\u001b[A"
          ]
        },
        {
          "output_type": "stream",
          "name": "stdout",
          "text": [
            "Epoch [60/200], Loss: 0.0668394842\n"
          ]
        },
        {
          "output_type": "stream",
          "name": "stderr",
          "text": [
            "\n",
            "Total Progress:  30%|███       | 61/200 [23:13<52:18, 22.58s/it]\u001b[A"
          ]
        },
        {
          "output_type": "stream",
          "name": "stdout",
          "text": [
            "Epoch [61/200], Loss: 0.0641047021\n"
          ]
        },
        {
          "output_type": "stream",
          "name": "stderr",
          "text": [
            "\n",
            "Total Progress:  31%|███       | 62/200 [23:35<51:52, 22.55s/it]\u001b[A"
          ]
        },
        {
          "output_type": "stream",
          "name": "stdout",
          "text": [
            "Epoch [62/200], Loss: 0.0646919262\n"
          ]
        },
        {
          "output_type": "stream",
          "name": "stderr",
          "text": [
            "\n",
            "Total Progress:  32%|███▏      | 63/200 [23:58<51:28, 22.54s/it]\u001b[A"
          ]
        },
        {
          "output_type": "stream",
          "name": "stdout",
          "text": [
            "Epoch [63/200], Loss: 0.0619673596\n"
          ]
        },
        {
          "output_type": "stream",
          "name": "stderr",
          "text": [
            "\n",
            "Total Progress:  32%|███▏      | 64/200 [24:20<51:08, 22.56s/it]\u001b[A"
          ]
        },
        {
          "output_type": "stream",
          "name": "stdout",
          "text": [
            "Epoch [64/200], Loss: 0.0665500925\n"
          ]
        },
        {
          "output_type": "stream",
          "name": "stderr",
          "text": [
            "\n",
            "Total Progress:  32%|███▎      | 65/200 [24:43<50:46, 22.57s/it]\u001b[A"
          ]
        },
        {
          "output_type": "stream",
          "name": "stdout",
          "text": [
            "Epoch [65/200], Loss: 0.0631993288\n"
          ]
        },
        {
          "output_type": "stream",
          "name": "stderr",
          "text": [
            "\n",
            "Total Progress:  33%|███▎      | 66/200 [25:05<50:26, 22.59s/it]\u001b[A"
          ]
        },
        {
          "output_type": "stream",
          "name": "stdout",
          "text": [
            "Epoch [66/200], Loss: 0.0974110876\n"
          ]
        },
        {
          "output_type": "stream",
          "name": "stderr",
          "text": [
            "\n",
            "Total Progress:  34%|███▎      | 67/200 [25:28<50:06, 22.61s/it]\u001b[A"
          ]
        },
        {
          "output_type": "stream",
          "name": "stdout",
          "text": [
            "Epoch [67/200], Loss: 0.0789361868\n"
          ]
        },
        {
          "output_type": "stream",
          "name": "stderr",
          "text": [
            "\n",
            "Total Progress:  34%|███▍      | 68/200 [25:51<49:46, 22.62s/it]\u001b[A"
          ]
        },
        {
          "output_type": "stream",
          "name": "stdout",
          "text": [
            "Epoch [68/200], Loss: 0.0639483492\n"
          ]
        },
        {
          "output_type": "stream",
          "name": "stderr",
          "text": [
            "\n",
            "Total Progress:  34%|███▍      | 69/200 [26:13<49:24, 22.63s/it]\u001b[A"
          ]
        },
        {
          "output_type": "stream",
          "name": "stdout",
          "text": [
            "Epoch [69/200], Loss: 0.0689062194\n"
          ]
        },
        {
          "output_type": "stream",
          "name": "stderr",
          "text": [
            "\n",
            "Total Progress:  35%|███▌      | 70/200 [26:37<49:36, 22.90s/it]\u001b[A"
          ]
        },
        {
          "output_type": "stream",
          "name": "stdout",
          "text": [
            "Epoch [70/200], Loss: 0.0623483887\n"
          ]
        },
        {
          "output_type": "stream",
          "name": "stderr",
          "text": [
            "\n",
            "Total Progress:  36%|███▌      | 71/200 [27:00<49:06, 22.84s/it]\u001b[A"
          ]
        },
        {
          "output_type": "stream",
          "name": "stdout",
          "text": [
            "Epoch [71/200], Loss: 0.0641884186\n"
          ]
        },
        {
          "output_type": "stream",
          "name": "stderr",
          "text": [
            "\n",
            "Total Progress:  36%|███▌      | 72/200 [27:22<48:34, 22.77s/it]\u001b[A"
          ]
        },
        {
          "output_type": "stream",
          "name": "stdout",
          "text": [
            "Epoch [72/200], Loss: 0.0635909491\n"
          ]
        },
        {
          "output_type": "stream",
          "name": "stderr",
          "text": [
            "\n",
            "Total Progress:  36%|███▋      | 73/200 [27:45<48:14, 22.79s/it]\u001b[A"
          ]
        },
        {
          "output_type": "stream",
          "name": "stdout",
          "text": [
            "Epoch [73/200], Loss: 0.0605466845\n"
          ]
        },
        {
          "output_type": "stream",
          "name": "stderr",
          "text": [
            "\n",
            "Total Progress:  37%|███▋      | 74/200 [28:08<47:43, 22.73s/it]\u001b[A"
          ]
        },
        {
          "output_type": "stream",
          "name": "stdout",
          "text": [
            "Epoch [74/200], Loss: 0.0653249265\n"
          ]
        },
        {
          "output_type": "stream",
          "name": "stderr",
          "text": [
            "\n",
            "Total Progress:  38%|███▊      | 75/200 [28:30<47:15, 22.69s/it]\u001b[A"
          ]
        },
        {
          "output_type": "stream",
          "name": "stdout",
          "text": [
            "Epoch [75/200], Loss: 0.0653013795\n"
          ]
        },
        {
          "output_type": "stream",
          "name": "stderr",
          "text": [
            "\n",
            "Total Progress:  38%|███▊      | 76/200 [28:53<46:50, 22.67s/it]\u001b[A"
          ]
        },
        {
          "output_type": "stream",
          "name": "stdout",
          "text": [
            "Epoch [76/200], Loss: 0.0676065582\n"
          ]
        },
        {
          "output_type": "stream",
          "name": "stderr",
          "text": [
            "\n",
            "Total Progress:  38%|███▊      | 77/200 [29:15<46:24, 22.64s/it]\u001b[A"
          ]
        },
        {
          "output_type": "stream",
          "name": "stdout",
          "text": [
            "Epoch [77/200], Loss: 0.1032137285\n"
          ]
        },
        {
          "output_type": "stream",
          "name": "stderr",
          "text": [
            "\n",
            "Total Progress:  39%|███▉      | 78/200 [29:38<46:00, 22.63s/it]\u001b[A"
          ]
        },
        {
          "output_type": "stream",
          "name": "stdout",
          "text": [
            "Epoch [78/200], Loss: 0.0621062137\n"
          ]
        },
        {
          "output_type": "stream",
          "name": "stderr",
          "text": [
            "\n",
            "Total Progress:  40%|███▉      | 79/200 [30:01<45:36, 22.61s/it]\u001b[A"
          ]
        },
        {
          "output_type": "stream",
          "name": "stdout",
          "text": [
            "Epoch [79/200], Loss: 0.0689097704\n"
          ]
        },
        {
          "output_type": "stream",
          "name": "stderr",
          "text": [
            "\n",
            "Total Progress:  40%|████      | 80/200 [30:23<45:13, 22.61s/it]\u001b[A"
          ]
        },
        {
          "output_type": "stream",
          "name": "stdout",
          "text": [
            "Epoch [80/200], Loss: 0.0644153883\n"
          ]
        },
        {
          "output_type": "stream",
          "name": "stderr",
          "text": [
            "\n",
            "Total Progress:  40%|████      | 81/200 [30:46<44:52, 22.63s/it]\u001b[A"
          ]
        },
        {
          "output_type": "stream",
          "name": "stdout",
          "text": [
            "Epoch [81/200], Loss: 0.0665136932\n"
          ]
        },
        {
          "output_type": "stream",
          "name": "stderr",
          "text": [
            "\n",
            "Total Progress:  41%|████      | 82/200 [31:08<44:29, 22.63s/it]\u001b[A"
          ]
        },
        {
          "output_type": "stream",
          "name": "stdout",
          "text": [
            "Epoch [82/200], Loss: 0.0707617748\n"
          ]
        },
        {
          "output_type": "stream",
          "name": "stderr",
          "text": [
            "\n",
            "Total Progress:  42%|████▏     | 83/200 [31:31<44:03, 22.59s/it]\u001b[A"
          ]
        },
        {
          "output_type": "stream",
          "name": "stdout",
          "text": [
            "Epoch [83/200], Loss: 0.0716117698\n"
          ]
        },
        {
          "output_type": "stream",
          "name": "stderr",
          "text": [
            "\n",
            "Total Progress:  42%|████▏     | 84/200 [31:54<43:40, 22.59s/it]\u001b[A"
          ]
        },
        {
          "output_type": "stream",
          "name": "stdout",
          "text": [
            "Epoch [84/200], Loss: 0.0657696139\n"
          ]
        },
        {
          "output_type": "stream",
          "name": "stderr",
          "text": [
            "\n",
            "Total Progress:  42%|████▎     | 85/200 [32:16<43:17, 22.59s/it]\u001b[A"
          ]
        },
        {
          "output_type": "stream",
          "name": "stdout",
          "text": [
            "Epoch [85/200], Loss: 0.0686410697\n"
          ]
        },
        {
          "output_type": "stream",
          "name": "stderr",
          "text": [
            "\n",
            "Total Progress:  43%|████▎     | 86/200 [32:39<42:55, 22.59s/it]\u001b[A"
          ]
        },
        {
          "output_type": "stream",
          "name": "stdout",
          "text": [
            "Epoch [86/200], Loss: 0.0679161953\n"
          ]
        },
        {
          "output_type": "stream",
          "name": "stderr",
          "text": [
            "\n",
            "Total Progress:  44%|████▎     | 87/200 [33:01<42:33, 22.60s/it]\u001b[A"
          ]
        },
        {
          "output_type": "stream",
          "name": "stdout",
          "text": [
            "Epoch [87/200], Loss: 0.0668008083\n"
          ]
        },
        {
          "output_type": "stream",
          "name": "stderr",
          "text": [
            "\n",
            "Total Progress:  44%|████▍     | 88/200 [33:24<42:12, 22.61s/it]\u001b[A"
          ]
        },
        {
          "output_type": "stream",
          "name": "stdout",
          "text": [
            "Epoch [88/200], Loss: 0.0683512384\n"
          ]
        },
        {
          "output_type": "stream",
          "name": "stderr",
          "text": [
            "\n",
            "Total Progress:  44%|████▍     | 89/200 [33:47<41:50, 22.62s/it]\u001b[A"
          ]
        },
        {
          "output_type": "stream",
          "name": "stdout",
          "text": [
            "Epoch [89/200], Loss: 0.0678777636\n"
          ]
        },
        {
          "output_type": "stream",
          "name": "stderr",
          "text": [
            "\n",
            "Total Progress:  45%|████▌     | 90/200 [34:09<41:27, 22.61s/it]\u001b[A"
          ]
        },
        {
          "output_type": "stream",
          "name": "stdout",
          "text": [
            "Epoch [90/200], Loss: 0.0688393896\n"
          ]
        },
        {
          "output_type": "stream",
          "name": "stderr",
          "text": [
            "\n",
            "Total Progress:  46%|████▌     | 91/200 [34:32<41:06, 22.63s/it]\u001b[A"
          ]
        },
        {
          "output_type": "stream",
          "name": "stdout",
          "text": [
            "Epoch [91/200], Loss: 0.1095913856\n"
          ]
        },
        {
          "output_type": "stream",
          "name": "stderr",
          "text": [
            "\n",
            "Total Progress:  46%|████▌     | 92/200 [34:55<40:43, 22.63s/it]\u001b[A"
          ]
        },
        {
          "output_type": "stream",
          "name": "stdout",
          "text": [
            "Epoch [92/200], Loss: 0.0731955187\n"
          ]
        },
        {
          "output_type": "stream",
          "name": "stderr",
          "text": [
            "\n",
            "Total Progress:  46%|████▋     | 93/200 [35:17<40:20, 22.62s/it]\u001b[A"
          ]
        },
        {
          "output_type": "stream",
          "name": "stdout",
          "text": [
            "Epoch [93/200], Loss: 0.0707557978\n"
          ]
        },
        {
          "output_type": "stream",
          "name": "stderr",
          "text": [
            "\n",
            "Total Progress:  47%|████▋     | 94/200 [35:40<39:57, 22.62s/it]\u001b[A"
          ]
        },
        {
          "output_type": "stream",
          "name": "stdout",
          "text": [
            "Epoch [94/200], Loss: 0.0747512140\n"
          ]
        },
        {
          "output_type": "stream",
          "name": "stderr",
          "text": [
            "\n",
            "Total Progress:  48%|████▊     | 95/200 [36:02<39:35, 22.63s/it]\u001b[A"
          ]
        },
        {
          "output_type": "stream",
          "name": "stdout",
          "text": [
            "Epoch [95/200], Loss: 0.0689366811\n"
          ]
        },
        {
          "output_type": "stream",
          "name": "stderr",
          "text": [
            "\n",
            "Total Progress:  48%|████▊     | 96/200 [36:25<39:12, 22.62s/it]\u001b[A"
          ]
        },
        {
          "output_type": "stream",
          "name": "stdout",
          "text": [
            "Epoch [96/200], Loss: 0.0712706425\n"
          ]
        },
        {
          "output_type": "stream",
          "name": "stderr",
          "text": [
            "\n",
            "Total Progress:  48%|████▊     | 97/200 [36:48<38:50, 22.62s/it]\u001b[A"
          ]
        },
        {
          "output_type": "stream",
          "name": "stdout",
          "text": [
            "Epoch [97/200], Loss: 0.0668403333\n"
          ]
        },
        {
          "output_type": "stream",
          "name": "stderr",
          "text": [
            "\n",
            "Total Progress:  49%|████▉     | 98/200 [37:10<38:24, 22.60s/it]\u001b[A"
          ]
        },
        {
          "output_type": "stream",
          "name": "stdout",
          "text": [
            "Epoch [98/200], Loss: 0.0675767032\n"
          ]
        },
        {
          "output_type": "stream",
          "name": "stderr",
          "text": [
            "\n",
            "Total Progress:  50%|████▉     | 99/200 [37:33<38:01, 22.59s/it]\u001b[A"
          ]
        },
        {
          "output_type": "stream",
          "name": "stdout",
          "text": [
            "Epoch [99/200], Loss: 0.0657074321\n"
          ]
        },
        {
          "output_type": "stream",
          "name": "stderr",
          "text": [
            "\n",
            "Total Progress:  50%|█████     | 100/200 [37:55<37:39, 22.59s/it]\u001b[A"
          ]
        },
        {
          "output_type": "stream",
          "name": "stdout",
          "text": [
            "Epoch [100/200], Loss: 0.0632260455\n"
          ]
        },
        {
          "output_type": "stream",
          "name": "stderr",
          "text": [
            "\n",
            "Total Progress:  50%|█████     | 101/200 [38:18<37:17, 22.61s/it]\u001b[A"
          ]
        },
        {
          "output_type": "stream",
          "name": "stdout",
          "text": [
            "Epoch [101/200], Loss: 0.0690049356\n"
          ]
        },
        {
          "output_type": "stream",
          "name": "stderr",
          "text": [
            "\n",
            "Total Progress:  51%|█████     | 102/200 [38:41<36:55, 22.60s/it]\u001b[A"
          ]
        },
        {
          "output_type": "stream",
          "name": "stdout",
          "text": [
            "Epoch [102/200], Loss: 0.0630306516\n"
          ]
        },
        {
          "output_type": "stream",
          "name": "stderr",
          "text": [
            "\n",
            "Total Progress:  52%|█████▏    | 103/200 [39:03<36:31, 22.60s/it]\u001b[A"
          ]
        },
        {
          "output_type": "stream",
          "name": "stdout",
          "text": [
            "Epoch [103/200], Loss: 0.0683458426\n"
          ]
        },
        {
          "output_type": "stream",
          "name": "stderr",
          "text": [
            "\n",
            "Total Progress:  52%|█████▏    | 104/200 [39:26<36:10, 22.60s/it]\u001b[A"
          ]
        },
        {
          "output_type": "stream",
          "name": "stdout",
          "text": [
            "Epoch [104/200], Loss: 0.0761321554\n"
          ]
        },
        {
          "output_type": "stream",
          "name": "stderr",
          "text": [
            "\n",
            "Total Progress:  52%|█████▎    | 105/200 [39:48<35:46, 22.60s/it]\u001b[A"
          ]
        },
        {
          "output_type": "stream",
          "name": "stdout",
          "text": [
            "Epoch [105/200], Loss: 0.0653281768\n"
          ]
        },
        {
          "output_type": "stream",
          "name": "stderr",
          "text": [
            "\n",
            "Total Progress:  53%|█████▎    | 106/200 [40:11<35:25, 22.61s/it]\u001b[A"
          ]
        },
        {
          "output_type": "stream",
          "name": "stdout",
          "text": [
            "Epoch [106/200], Loss: 0.0765162935\n"
          ]
        },
        {
          "output_type": "stream",
          "name": "stderr",
          "text": [
            "\n",
            "Total Progress:  54%|█████▎    | 107/200 [40:34<35:04, 22.63s/it]\u001b[A"
          ]
        },
        {
          "output_type": "stream",
          "name": "stdout",
          "text": [
            "Epoch [107/200], Loss: 0.0661606520\n"
          ]
        },
        {
          "output_type": "stream",
          "name": "stderr",
          "text": [
            "\n",
            "Total Progress:  54%|█████▍    | 108/200 [40:56<34:40, 22.61s/it]\u001b[A"
          ]
        },
        {
          "output_type": "stream",
          "name": "stdout",
          "text": [
            "Epoch [108/200], Loss: 0.0709080515\n"
          ]
        },
        {
          "output_type": "stream",
          "name": "stderr",
          "text": [
            "\n",
            "Total Progress:  55%|█████▍    | 109/200 [41:19<34:16, 22.60s/it]\u001b[A"
          ]
        },
        {
          "output_type": "stream",
          "name": "stdout",
          "text": [
            "Epoch [109/200], Loss: 0.0662521464\n"
          ]
        },
        {
          "output_type": "stream",
          "name": "stderr",
          "text": [
            "\n",
            "Total Progress:  55%|█████▌    | 110/200 [41:41<33:53, 22.60s/it]\u001b[A"
          ]
        },
        {
          "output_type": "stream",
          "name": "stdout",
          "text": [
            "Epoch [110/200], Loss: 0.1109118768\n"
          ]
        },
        {
          "output_type": "stream",
          "name": "stderr",
          "text": [
            "\n",
            "Total Progress:  56%|█████▌    | 111/200 [42:04<33:30, 22.59s/it]\u001b[A"
          ]
        },
        {
          "output_type": "stream",
          "name": "stdout",
          "text": [
            "Epoch [111/200], Loss: 0.0711327153\n"
          ]
        },
        {
          "output_type": "stream",
          "name": "stderr",
          "text": [
            "\n",
            "Total Progress:  56%|█████▌    | 112/200 [42:27<33:08, 22.60s/it]\u001b[A"
          ]
        },
        {
          "output_type": "stream",
          "name": "stdout",
          "text": [
            "Epoch [112/200], Loss: 0.0695881969\n"
          ]
        },
        {
          "output_type": "stream",
          "name": "stderr",
          "text": [
            "\n",
            "Total Progress:  56%|█████▋    | 113/200 [42:49<32:46, 22.61s/it]\u001b[A"
          ]
        },
        {
          "output_type": "stream",
          "name": "stdout",
          "text": [
            "Epoch [113/200], Loss: 0.0703641820\n"
          ]
        },
        {
          "output_type": "stream",
          "name": "stderr",
          "text": [
            "\n",
            "Total Progress:  57%|█████▋    | 114/200 [43:12<32:24, 22.62s/it]\u001b[A"
          ]
        },
        {
          "output_type": "stream",
          "name": "stdout",
          "text": [
            "Epoch [114/200], Loss: 0.0779667518\n"
          ]
        },
        {
          "output_type": "stream",
          "name": "stderr",
          "text": [
            "\n",
            "Total Progress:  57%|█████▊    | 115/200 [43:34<31:59, 22.59s/it]\u001b[A"
          ]
        },
        {
          "output_type": "stream",
          "name": "stdout",
          "text": [
            "Epoch [115/200], Loss: 0.0734590688\n"
          ]
        },
        {
          "output_type": "stream",
          "name": "stderr",
          "text": [
            "\n",
            "Total Progress:  58%|█████▊    | 116/200 [43:57<31:36, 22.57s/it]\u001b[A"
          ]
        },
        {
          "output_type": "stream",
          "name": "stdout",
          "text": [
            "Epoch [116/200], Loss: 0.0733339238\n"
          ]
        },
        {
          "output_type": "stream",
          "name": "stderr",
          "text": [
            "\n",
            "Total Progress:  58%|█████▊    | 117/200 [44:20<31:14, 22.58s/it]\u001b[A"
          ]
        },
        {
          "output_type": "stream",
          "name": "stdout",
          "text": [
            "Epoch [117/200], Loss: 0.0767390499\n"
          ]
        },
        {
          "output_type": "stream",
          "name": "stderr",
          "text": [
            "\n",
            "Total Progress:  59%|█████▉    | 118/200 [44:42<30:50, 22.56s/it]\u001b[A"
          ]
        },
        {
          "output_type": "stream",
          "name": "stdout",
          "text": [
            "Epoch [118/200], Loss: 0.0844102491\n"
          ]
        },
        {
          "output_type": "stream",
          "name": "stderr",
          "text": [
            "\n",
            "Total Progress:  60%|█████▉    | 119/200 [45:05<30:28, 22.57s/it]\u001b[A"
          ]
        },
        {
          "output_type": "stream",
          "name": "stdout",
          "text": [
            "Epoch [119/200], Loss: 0.0736653352\n"
          ]
        },
        {
          "output_type": "stream",
          "name": "stderr",
          "text": [
            "\n",
            "Total Progress:  60%|██████    | 120/200 [45:27<30:07, 22.59s/it]\u001b[A"
          ]
        },
        {
          "output_type": "stream",
          "name": "stdout",
          "text": [
            "Epoch [120/200], Loss: 0.0739725993\n"
          ]
        },
        {
          "output_type": "stream",
          "name": "stderr",
          "text": [
            "\n",
            "Total Progress:  60%|██████    | 121/200 [45:50<29:44, 22.59s/it]\u001b[A"
          ]
        },
        {
          "output_type": "stream",
          "name": "stdout",
          "text": [
            "Epoch [121/200], Loss: 0.0718094730\n"
          ]
        },
        {
          "output_type": "stream",
          "name": "stderr",
          "text": [
            "\n",
            "Total Progress:  61%|██████    | 122/200 [46:12<29:20, 22.57s/it]\u001b[A"
          ]
        },
        {
          "output_type": "stream",
          "name": "stdout",
          "text": [
            "Epoch [122/200], Loss: 0.1227932791\n"
          ]
        },
        {
          "output_type": "stream",
          "name": "stderr",
          "text": [
            "\n",
            "Total Progress:  62%|██████▏   | 123/200 [46:35<28:56, 22.55s/it]\u001b[A"
          ]
        },
        {
          "output_type": "stream",
          "name": "stdout",
          "text": [
            "Epoch [123/200], Loss: 0.0763507640\n"
          ]
        },
        {
          "output_type": "stream",
          "name": "stderr",
          "text": [
            "\n",
            "Total Progress:  62%|██████▏   | 124/200 [46:58<28:35, 22.57s/it]\u001b[A"
          ]
        },
        {
          "output_type": "stream",
          "name": "stdout",
          "text": [
            "Epoch [124/200], Loss: 0.0805310516\n"
          ]
        },
        {
          "output_type": "stream",
          "name": "stderr",
          "text": [
            "\n",
            "Total Progress:  62%|██████▎   | 125/200 [47:20<28:14, 22.59s/it]\u001b[A"
          ]
        },
        {
          "output_type": "stream",
          "name": "stdout",
          "text": [
            "Epoch [125/200], Loss: 0.0760273766\n"
          ]
        },
        {
          "output_type": "stream",
          "name": "stderr",
          "text": [
            "\n",
            "Total Progress:  63%|██████▎   | 126/200 [47:43<27:51, 22.58s/it]\u001b[A"
          ]
        },
        {
          "output_type": "stream",
          "name": "stdout",
          "text": [
            "Epoch [126/200], Loss: 0.0773179675\n"
          ]
        },
        {
          "output_type": "stream",
          "name": "stderr",
          "text": [
            "\n",
            "Total Progress:  64%|██████▎   | 127/200 [48:05<27:29, 22.60s/it]\u001b[A"
          ]
        },
        {
          "output_type": "stream",
          "name": "stdout",
          "text": [
            "Epoch [127/200], Loss: 0.0710587211\n"
          ]
        },
        {
          "output_type": "stream",
          "name": "stderr",
          "text": [
            "\n",
            "Total Progress:  64%|██████▍   | 128/200 [48:28<27:06, 22.59s/it]\u001b[A"
          ]
        },
        {
          "output_type": "stream",
          "name": "stdout",
          "text": [
            "Epoch [128/200], Loss: 0.0730417259\n"
          ]
        },
        {
          "output_type": "stream",
          "name": "stderr",
          "text": [
            "\n",
            "Total Progress:  64%|██████▍   | 129/200 [48:50<26:43, 22.58s/it]\u001b[A"
          ]
        },
        {
          "output_type": "stream",
          "name": "stdout",
          "text": [
            "Epoch [129/200], Loss: 0.0775282633\n"
          ]
        },
        {
          "output_type": "stream",
          "name": "stderr",
          "text": [
            "\n",
            "Total Progress:  65%|██████▌   | 130/200 [49:13<26:18, 22.56s/it]\u001b[A"
          ]
        },
        {
          "output_type": "stream",
          "name": "stdout",
          "text": [
            "Epoch [130/200], Loss: 0.0796047907\n"
          ]
        },
        {
          "output_type": "stream",
          "name": "stderr",
          "text": [
            "\n",
            "Total Progress:  66%|██████▌   | 131/200 [49:36<25:58, 22.58s/it]\u001b[A"
          ]
        },
        {
          "output_type": "stream",
          "name": "stdout",
          "text": [
            "Epoch [131/200], Loss: 0.0916314396\n"
          ]
        },
        {
          "output_type": "stream",
          "name": "stderr",
          "text": [
            "\n",
            "Total Progress:  66%|██████▌   | 132/200 [49:58<25:35, 22.58s/it]\u001b[A"
          ]
        },
        {
          "output_type": "stream",
          "name": "stdout",
          "text": [
            "Epoch [132/200], Loss: 0.1241341382\n"
          ]
        },
        {
          "output_type": "stream",
          "name": "stderr",
          "text": [
            "\n",
            "Total Progress:  66%|██████▋   | 133/200 [50:21<25:13, 22.59s/it]\u001b[A"
          ]
        },
        {
          "output_type": "stream",
          "name": "stdout",
          "text": [
            "Epoch [133/200], Loss: 0.0785997105\n"
          ]
        },
        {
          "output_type": "stream",
          "name": "stderr",
          "text": [
            "\n",
            "Total Progress:  67%|██████▋   | 134/200 [50:43<24:52, 22.61s/it]\u001b[A"
          ]
        },
        {
          "output_type": "stream",
          "name": "stdout",
          "text": [
            "Epoch [134/200], Loss: 0.0853600481\n"
          ]
        },
        {
          "output_type": "stream",
          "name": "stderr",
          "text": [
            "\n",
            "Total Progress:  68%|██████▊   | 135/200 [51:06<24:29, 22.60s/it]\u001b[A"
          ]
        },
        {
          "output_type": "stream",
          "name": "stdout",
          "text": [
            "Epoch [135/200], Loss: 0.0807295154\n"
          ]
        },
        {
          "output_type": "stream",
          "name": "stderr",
          "text": [
            "\n",
            "Total Progress:  68%|██████▊   | 136/200 [51:29<24:07, 22.61s/it]\u001b[A"
          ]
        },
        {
          "output_type": "stream",
          "name": "stdout",
          "text": [
            "Epoch [136/200], Loss: 0.0748359667\n"
          ]
        },
        {
          "output_type": "stream",
          "name": "stderr",
          "text": [
            "\n",
            "Total Progress:  68%|██████▊   | 137/200 [51:51<23:44, 22.61s/it]\u001b[A"
          ]
        },
        {
          "output_type": "stream",
          "name": "stdout",
          "text": [
            "Epoch [137/200], Loss: 0.0683107969\n"
          ]
        },
        {
          "output_type": "stream",
          "name": "stderr",
          "text": [
            "\n",
            "Total Progress:  69%|██████▉   | 138/200 [52:14<23:22, 22.62s/it]\u001b[A"
          ]
        },
        {
          "output_type": "stream",
          "name": "stdout",
          "text": [
            "Epoch [138/200], Loss: 0.0701654547\n"
          ]
        },
        {
          "output_type": "stream",
          "name": "stderr",
          "text": [
            "\n",
            "Total Progress:  70%|██████▉   | 139/200 [52:37<22:59, 22.62s/it]\u001b[A"
          ]
        },
        {
          "output_type": "stream",
          "name": "stdout",
          "text": [
            "Epoch [139/200], Loss: 0.0716116061\n"
          ]
        },
        {
          "output_type": "stream",
          "name": "stderr",
          "text": [
            "\n",
            "Total Progress:  70%|███████   | 140/200 [52:59<22:36, 22.61s/it]\u001b[A"
          ]
        },
        {
          "output_type": "stream",
          "name": "stdout",
          "text": [
            "Epoch [140/200], Loss: 0.0818847263\n"
          ]
        },
        {
          "output_type": "stream",
          "name": "stderr",
          "text": [
            "\n",
            "Total Progress:  70%|███████   | 141/200 [53:22<22:14, 22.62s/it]\u001b[A"
          ]
        },
        {
          "output_type": "stream",
          "name": "stdout",
          "text": [
            "Epoch [141/200], Loss: 0.0888958893\n"
          ]
        },
        {
          "output_type": "stream",
          "name": "stderr",
          "text": [
            "\n",
            "Total Progress:  71%|███████   | 142/200 [53:44<21:51, 22.62s/it]\u001b[A"
          ]
        },
        {
          "output_type": "stream",
          "name": "stdout",
          "text": [
            "Epoch [142/200], Loss: 0.0802948555\n"
          ]
        },
        {
          "output_type": "stream",
          "name": "stderr",
          "text": [
            "\n",
            "Total Progress:  72%|███████▏  | 143/200 [54:07<21:30, 22.64s/it]\u001b[A"
          ]
        },
        {
          "output_type": "stream",
          "name": "stdout",
          "text": [
            "Epoch [143/200], Loss: 0.0816248964\n"
          ]
        },
        {
          "output_type": "stream",
          "name": "stderr",
          "text": [
            "\n",
            "Total Progress:  72%|███████▏  | 144/200 [54:30<21:08, 22.65s/it]\u001b[A"
          ]
        },
        {
          "output_type": "stream",
          "name": "stdout",
          "text": [
            "Epoch [144/200], Loss: 0.0813581715\n"
          ]
        },
        {
          "output_type": "stream",
          "name": "stderr",
          "text": [
            "\n",
            "Total Progress:  72%|███████▎  | 145/200 [54:52<20:45, 22.64s/it]\u001b[A"
          ]
        },
        {
          "output_type": "stream",
          "name": "stdout",
          "text": [
            "Epoch [145/200], Loss: 0.0845431824\n"
          ]
        },
        {
          "output_type": "stream",
          "name": "stderr",
          "text": [
            "\n",
            "Total Progress:  73%|███████▎  | 146/200 [55:15<20:22, 22.64s/it]\u001b[A"
          ]
        },
        {
          "output_type": "stream",
          "name": "stdout",
          "text": [
            "Epoch [146/200], Loss: 0.1187582484\n"
          ]
        },
        {
          "output_type": "stream",
          "name": "stderr",
          "text": [
            "\n",
            "Total Progress:  74%|███████▎  | 147/200 [55:38<19:59, 22.63s/it]\u001b[A"
          ]
        },
        {
          "output_type": "stream",
          "name": "stdout",
          "text": [
            "Epoch [147/200], Loss: 0.0744072071\n"
          ]
        },
        {
          "output_type": "stream",
          "name": "stderr",
          "text": [
            "\n",
            "Total Progress:  74%|███████▍  | 148/200 [56:00<19:36, 22.63s/it]\u001b[A"
          ]
        },
        {
          "output_type": "stream",
          "name": "stdout",
          "text": [
            "Epoch [148/200], Loss: 0.0730185408\n"
          ]
        },
        {
          "output_type": "stream",
          "name": "stderr",
          "text": [
            "\n",
            "Total Progress:  74%|███████▍  | 149/200 [56:23<19:13, 22.63s/it]\u001b[A"
          ]
        },
        {
          "output_type": "stream",
          "name": "stdout",
          "text": [
            "Epoch [149/200], Loss: 0.0730388133\n"
          ]
        },
        {
          "output_type": "stream",
          "name": "stderr",
          "text": [
            "\n",
            "Total Progress:  75%|███████▌  | 150/200 [56:45<18:50, 22.61s/it]\u001b[A"
          ]
        },
        {
          "output_type": "stream",
          "name": "stdout",
          "text": [
            "Epoch [150/200], Loss: 0.0766477505\n"
          ]
        },
        {
          "output_type": "stream",
          "name": "stderr",
          "text": [
            "\n",
            "Total Progress:  76%|███████▌  | 151/200 [57:08<18:28, 22.63s/it]\u001b[A"
          ]
        },
        {
          "output_type": "stream",
          "name": "stdout",
          "text": [
            "Epoch [151/200], Loss: 0.0711088697\n"
          ]
        },
        {
          "output_type": "stream",
          "name": "stderr",
          "text": [
            "\n",
            "Total Progress:  76%|███████▌  | 152/200 [57:31<18:05, 22.62s/it]\u001b[A"
          ]
        },
        {
          "output_type": "stream",
          "name": "stdout",
          "text": [
            "Epoch [152/200], Loss: 0.0744096536\n"
          ]
        },
        {
          "output_type": "stream",
          "name": "stderr",
          "text": [
            "\n",
            "Total Progress:  76%|███████▋  | 153/200 [57:53<17:42, 22.60s/it]\u001b[A"
          ]
        },
        {
          "output_type": "stream",
          "name": "stdout",
          "text": [
            "Epoch [153/200], Loss: 0.0733983149\n"
          ]
        },
        {
          "output_type": "stream",
          "name": "stderr",
          "text": [
            "\n",
            "Total Progress:  77%|███████▋  | 154/200 [58:16<17:19, 22.59s/it]\u001b[A"
          ]
        },
        {
          "output_type": "stream",
          "name": "stdout",
          "text": [
            "Epoch [154/200], Loss: 0.0725394700\n"
          ]
        }
      ],
      "execution_count": null
    },
    {
      "cell_type": "code",
      "source": [
        "# Explicitly map the model to CPU\n",
        "checkpoint = torch.load('model.pth', map_location=torch.device('cpu'))\n",
        "model.load_state_dict(checkpoint['model'])\n",
        "\n",
        "# Set the device to CPU\n",
        "device = torch.device('cpu')\n",
        "model.to(device)\n"
      ],
      "metadata": {
        "colab": {
          "base_uri": "https://localhost:8080/"
        },
        "id": "XzePNLNzloKP",
        "outputId": "dc25d4cf-4a83-4ccb-d680-1c4f7ecf8c58"
      },
      "execution_count": 39,
      "outputs": [
        {
          "output_type": "stream",
          "name": "stderr",
          "text": [
            "<ipython-input-39-f7f45449219b>:2: FutureWarning: You are using `torch.load` with `weights_only=False` (the current default value), which uses the default pickle module implicitly. It is possible to construct malicious pickle data which will execute arbitrary code during unpickling (See https://github.com/pytorch/pytorch/blob/main/SECURITY.md#untrusted-models for more details). In a future release, the default value for `weights_only` will be flipped to `True`. This limits the functions that could be executed during unpickling. Arbitrary objects will no longer be allowed to be loaded via this mode unless they are explicitly allowlisted by the user via `torch.serialization.add_safe_globals`. We recommend you start setting `weights_only=True` for any use case where you don't have full control of the loaded file. Please open an issue on GitHub for any issues related to this experimental feature.\n",
            "  checkpoint = torch.load('model.pth', map_location=torch.device('cpu'))\n"
          ]
        },
        {
          "output_type": "execute_result",
          "data": {
            "text/plain": [
              "UnetPlusPlus(\n",
              "  (encoder): ResNetEncoder(\n",
              "    (conv1): Conv2d(3, 64, kernel_size=(7, 7), stride=(2, 2), padding=(3, 3), bias=False)\n",
              "    (bn1): BatchNorm2d(64, eps=1e-05, momentum=0.1, affine=True, track_running_stats=True)\n",
              "    (relu): ReLU(inplace=True)\n",
              "    (maxpool): MaxPool2d(kernel_size=3, stride=2, padding=1, dilation=1, ceil_mode=False)\n",
              "    (layer1): Sequential(\n",
              "      (0): BasicBlock(\n",
              "        (conv1): Conv2d(64, 64, kernel_size=(3, 3), stride=(1, 1), padding=(1, 1), bias=False)\n",
              "        (bn1): BatchNorm2d(64, eps=1e-05, momentum=0.1, affine=True, track_running_stats=True)\n",
              "        (relu): ReLU(inplace=True)\n",
              "        (conv2): Conv2d(64, 64, kernel_size=(3, 3), stride=(1, 1), padding=(1, 1), bias=False)\n",
              "        (bn2): BatchNorm2d(64, eps=1e-05, momentum=0.1, affine=True, track_running_stats=True)\n",
              "      )\n",
              "      (1): BasicBlock(\n",
              "        (conv1): Conv2d(64, 64, kernel_size=(3, 3), stride=(1, 1), padding=(1, 1), bias=False)\n",
              "        (bn1): BatchNorm2d(64, eps=1e-05, momentum=0.1, affine=True, track_running_stats=True)\n",
              "        (relu): ReLU(inplace=True)\n",
              "        (conv2): Conv2d(64, 64, kernel_size=(3, 3), stride=(1, 1), padding=(1, 1), bias=False)\n",
              "        (bn2): BatchNorm2d(64, eps=1e-05, momentum=0.1, affine=True, track_running_stats=True)\n",
              "      )\n",
              "    )\n",
              "    (layer2): Sequential(\n",
              "      (0): BasicBlock(\n",
              "        (conv1): Conv2d(64, 128, kernel_size=(3, 3), stride=(2, 2), padding=(1, 1), bias=False)\n",
              "        (bn1): BatchNorm2d(128, eps=1e-05, momentum=0.1, affine=True, track_running_stats=True)\n",
              "        (relu): ReLU(inplace=True)\n",
              "        (conv2): Conv2d(128, 128, kernel_size=(3, 3), stride=(1, 1), padding=(1, 1), bias=False)\n",
              "        (bn2): BatchNorm2d(128, eps=1e-05, momentum=0.1, affine=True, track_running_stats=True)\n",
              "        (downsample): Sequential(\n",
              "          (0): Conv2d(64, 128, kernel_size=(1, 1), stride=(2, 2), bias=False)\n",
              "          (1): BatchNorm2d(128, eps=1e-05, momentum=0.1, affine=True, track_running_stats=True)\n",
              "        )\n",
              "      )\n",
              "      (1): BasicBlock(\n",
              "        (conv1): Conv2d(128, 128, kernel_size=(3, 3), stride=(1, 1), padding=(1, 1), bias=False)\n",
              "        (bn1): BatchNorm2d(128, eps=1e-05, momentum=0.1, affine=True, track_running_stats=True)\n",
              "        (relu): ReLU(inplace=True)\n",
              "        (conv2): Conv2d(128, 128, kernel_size=(3, 3), stride=(1, 1), padding=(1, 1), bias=False)\n",
              "        (bn2): BatchNorm2d(128, eps=1e-05, momentum=0.1, affine=True, track_running_stats=True)\n",
              "      )\n",
              "    )\n",
              "    (layer3): Sequential(\n",
              "      (0): BasicBlock(\n",
              "        (conv1): Conv2d(128, 256, kernel_size=(3, 3), stride=(2, 2), padding=(1, 1), bias=False)\n",
              "        (bn1): BatchNorm2d(256, eps=1e-05, momentum=0.1, affine=True, track_running_stats=True)\n",
              "        (relu): ReLU(inplace=True)\n",
              "        (conv2): Conv2d(256, 256, kernel_size=(3, 3), stride=(1, 1), padding=(1, 1), bias=False)\n",
              "        (bn2): BatchNorm2d(256, eps=1e-05, momentum=0.1, affine=True, track_running_stats=True)\n",
              "        (downsample): Sequential(\n",
              "          (0): Conv2d(128, 256, kernel_size=(1, 1), stride=(2, 2), bias=False)\n",
              "          (1): BatchNorm2d(256, eps=1e-05, momentum=0.1, affine=True, track_running_stats=True)\n",
              "        )\n",
              "      )\n",
              "      (1): BasicBlock(\n",
              "        (conv1): Conv2d(256, 256, kernel_size=(3, 3), stride=(1, 1), padding=(1, 1), bias=False)\n",
              "        (bn1): BatchNorm2d(256, eps=1e-05, momentum=0.1, affine=True, track_running_stats=True)\n",
              "        (relu): ReLU(inplace=True)\n",
              "        (conv2): Conv2d(256, 256, kernel_size=(3, 3), stride=(1, 1), padding=(1, 1), bias=False)\n",
              "        (bn2): BatchNorm2d(256, eps=1e-05, momentum=0.1, affine=True, track_running_stats=True)\n",
              "      )\n",
              "    )\n",
              "    (layer4): Sequential(\n",
              "      (0): BasicBlock(\n",
              "        (conv1): Conv2d(256, 512, kernel_size=(3, 3), stride=(2, 2), padding=(1, 1), bias=False)\n",
              "        (bn1): BatchNorm2d(512, eps=1e-05, momentum=0.1, affine=True, track_running_stats=True)\n",
              "        (relu): ReLU(inplace=True)\n",
              "        (conv2): Conv2d(512, 512, kernel_size=(3, 3), stride=(1, 1), padding=(1, 1), bias=False)\n",
              "        (bn2): BatchNorm2d(512, eps=1e-05, momentum=0.1, affine=True, track_running_stats=True)\n",
              "        (downsample): Sequential(\n",
              "          (0): Conv2d(256, 512, kernel_size=(1, 1), stride=(2, 2), bias=False)\n",
              "          (1): BatchNorm2d(512, eps=1e-05, momentum=0.1, affine=True, track_running_stats=True)\n",
              "        )\n",
              "      )\n",
              "      (1): BasicBlock(\n",
              "        (conv1): Conv2d(512, 512, kernel_size=(3, 3), stride=(1, 1), padding=(1, 1), bias=False)\n",
              "        (bn1): BatchNorm2d(512, eps=1e-05, momentum=0.1, affine=True, track_running_stats=True)\n",
              "        (relu): ReLU(inplace=True)\n",
              "        (conv2): Conv2d(512, 512, kernel_size=(3, 3), stride=(1, 1), padding=(1, 1), bias=False)\n",
              "        (bn2): BatchNorm2d(512, eps=1e-05, momentum=0.1, affine=True, track_running_stats=True)\n",
              "      )\n",
              "    )\n",
              "  )\n",
              "  (decoder): UnetPlusPlusDecoder(\n",
              "    (center): Identity()\n",
              "    (blocks): ModuleDict(\n",
              "      (x_0_0): DecoderBlock(\n",
              "        (conv1): Conv2dReLU(\n",
              "          (0): Conv2d(768, 256, kernel_size=(3, 3), stride=(1, 1), padding=(1, 1), bias=False)\n",
              "          (1): BatchNorm2d(256, eps=1e-05, momentum=0.1, affine=True, track_running_stats=True)\n",
              "          (2): ReLU(inplace=True)\n",
              "        )\n",
              "        (attention1): Attention(\n",
              "          (attention): Identity()\n",
              "        )\n",
              "        (conv2): Conv2dReLU(\n",
              "          (0): Conv2d(256, 256, kernel_size=(3, 3), stride=(1, 1), padding=(1, 1), bias=False)\n",
              "          (1): BatchNorm2d(256, eps=1e-05, momentum=0.1, affine=True, track_running_stats=True)\n",
              "          (2): ReLU(inplace=True)\n",
              "        )\n",
              "        (attention2): Attention(\n",
              "          (attention): Identity()\n",
              "        )\n",
              "      )\n",
              "      (x_0_1): DecoderBlock(\n",
              "        (conv1): Conv2dReLU(\n",
              "          (0): Conv2d(512, 128, kernel_size=(3, 3), stride=(1, 1), padding=(1, 1), bias=False)\n",
              "          (1): BatchNorm2d(128, eps=1e-05, momentum=0.1, affine=True, track_running_stats=True)\n",
              "          (2): ReLU(inplace=True)\n",
              "        )\n",
              "        (attention1): Attention(\n",
              "          (attention): Identity()\n",
              "        )\n",
              "        (conv2): Conv2dReLU(\n",
              "          (0): Conv2d(128, 128, kernel_size=(3, 3), stride=(1, 1), padding=(1, 1), bias=False)\n",
              "          (1): BatchNorm2d(128, eps=1e-05, momentum=0.1, affine=True, track_running_stats=True)\n",
              "          (2): ReLU(inplace=True)\n",
              "        )\n",
              "        (attention2): Attention(\n",
              "          (attention): Identity()\n",
              "        )\n",
              "      )\n",
              "      (x_1_1): DecoderBlock(\n",
              "        (conv1): Conv2dReLU(\n",
              "          (0): Conv2d(384, 128, kernel_size=(3, 3), stride=(1, 1), padding=(1, 1), bias=False)\n",
              "          (1): BatchNorm2d(128, eps=1e-05, momentum=0.1, affine=True, track_running_stats=True)\n",
              "          (2): ReLU(inplace=True)\n",
              "        )\n",
              "        (attention1): Attention(\n",
              "          (attention): Identity()\n",
              "        )\n",
              "        (conv2): Conv2dReLU(\n",
              "          (0): Conv2d(128, 128, kernel_size=(3, 3), stride=(1, 1), padding=(1, 1), bias=False)\n",
              "          (1): BatchNorm2d(128, eps=1e-05, momentum=0.1, affine=True, track_running_stats=True)\n",
              "          (2): ReLU(inplace=True)\n",
              "        )\n",
              "        (attention2): Attention(\n",
              "          (attention): Identity()\n",
              "        )\n",
              "      )\n",
              "      (x_0_2): DecoderBlock(\n",
              "        (conv1): Conv2dReLU(\n",
              "          (0): Conv2d(320, 64, kernel_size=(3, 3), stride=(1, 1), padding=(1, 1), bias=False)\n",
              "          (1): BatchNorm2d(64, eps=1e-05, momentum=0.1, affine=True, track_running_stats=True)\n",
              "          (2): ReLU(inplace=True)\n",
              "        )\n",
              "        (attention1): Attention(\n",
              "          (attention): Identity()\n",
              "        )\n",
              "        (conv2): Conv2dReLU(\n",
              "          (0): Conv2d(64, 64, kernel_size=(3, 3), stride=(1, 1), padding=(1, 1), bias=False)\n",
              "          (1): BatchNorm2d(64, eps=1e-05, momentum=0.1, affine=True, track_running_stats=True)\n",
              "          (2): ReLU(inplace=True)\n",
              "        )\n",
              "        (attention2): Attention(\n",
              "          (attention): Identity()\n",
              "        )\n",
              "      )\n",
              "      (x_1_2): DecoderBlock(\n",
              "        (conv1): Conv2dReLU(\n",
              "          (0): Conv2d(256, 64, kernel_size=(3, 3), stride=(1, 1), padding=(1, 1), bias=False)\n",
              "          (1): BatchNorm2d(64, eps=1e-05, momentum=0.1, affine=True, track_running_stats=True)\n",
              "          (2): ReLU(inplace=True)\n",
              "        )\n",
              "        (attention1): Attention(\n",
              "          (attention): Identity()\n",
              "        )\n",
              "        (conv2): Conv2dReLU(\n",
              "          (0): Conv2d(64, 64, kernel_size=(3, 3), stride=(1, 1), padding=(1, 1), bias=False)\n",
              "          (1): BatchNorm2d(64, eps=1e-05, momentum=0.1, affine=True, track_running_stats=True)\n",
              "          (2): ReLU(inplace=True)\n",
              "        )\n",
              "        (attention2): Attention(\n",
              "          (attention): Identity()\n",
              "        )\n",
              "      )\n",
              "      (x_2_2): DecoderBlock(\n",
              "        (conv1): Conv2dReLU(\n",
              "          (0): Conv2d(192, 64, kernel_size=(3, 3), stride=(1, 1), padding=(1, 1), bias=False)\n",
              "          (1): BatchNorm2d(64, eps=1e-05, momentum=0.1, affine=True, track_running_stats=True)\n",
              "          (2): ReLU(inplace=True)\n",
              "        )\n",
              "        (attention1): Attention(\n",
              "          (attention): Identity()\n",
              "        )\n",
              "        (conv2): Conv2dReLU(\n",
              "          (0): Conv2d(64, 64, kernel_size=(3, 3), stride=(1, 1), padding=(1, 1), bias=False)\n",
              "          (1): BatchNorm2d(64, eps=1e-05, momentum=0.1, affine=True, track_running_stats=True)\n",
              "          (2): ReLU(inplace=True)\n",
              "        )\n",
              "        (attention2): Attention(\n",
              "          (attention): Identity()\n",
              "        )\n",
              "      )\n",
              "      (x_0_3): DecoderBlock(\n",
              "        (conv1): Conv2dReLU(\n",
              "          (0): Conv2d(320, 32, kernel_size=(3, 3), stride=(1, 1), padding=(1, 1), bias=False)\n",
              "          (1): BatchNorm2d(32, eps=1e-05, momentum=0.1, affine=True, track_running_stats=True)\n",
              "          (2): ReLU(inplace=True)\n",
              "        )\n",
              "        (attention1): Attention(\n",
              "          (attention): Identity()\n",
              "        )\n",
              "        (conv2): Conv2dReLU(\n",
              "          (0): Conv2d(32, 32, kernel_size=(3, 3), stride=(1, 1), padding=(1, 1), bias=False)\n",
              "          (1): BatchNorm2d(32, eps=1e-05, momentum=0.1, affine=True, track_running_stats=True)\n",
              "          (2): ReLU(inplace=True)\n",
              "        )\n",
              "        (attention2): Attention(\n",
              "          (attention): Identity()\n",
              "        )\n",
              "      )\n",
              "      (x_1_3): DecoderBlock(\n",
              "        (conv1): Conv2dReLU(\n",
              "          (0): Conv2d(256, 64, kernel_size=(3, 3), stride=(1, 1), padding=(1, 1), bias=False)\n",
              "          (1): BatchNorm2d(64, eps=1e-05, momentum=0.1, affine=True, track_running_stats=True)\n",
              "          (2): ReLU(inplace=True)\n",
              "        )\n",
              "        (attention1): Attention(\n",
              "          (attention): Identity()\n",
              "        )\n",
              "        (conv2): Conv2dReLU(\n",
              "          (0): Conv2d(64, 64, kernel_size=(3, 3), stride=(1, 1), padding=(1, 1), bias=False)\n",
              "          (1): BatchNorm2d(64, eps=1e-05, momentum=0.1, affine=True, track_running_stats=True)\n",
              "          (2): ReLU(inplace=True)\n",
              "        )\n",
              "        (attention2): Attention(\n",
              "          (attention): Identity()\n",
              "        )\n",
              "      )\n",
              "      (x_2_3): DecoderBlock(\n",
              "        (conv1): Conv2dReLU(\n",
              "          (0): Conv2d(192, 64, kernel_size=(3, 3), stride=(1, 1), padding=(1, 1), bias=False)\n",
              "          (1): BatchNorm2d(64, eps=1e-05, momentum=0.1, affine=True, track_running_stats=True)\n",
              "          (2): ReLU(inplace=True)\n",
              "        )\n",
              "        (attention1): Attention(\n",
              "          (attention): Identity()\n",
              "        )\n",
              "        (conv2): Conv2dReLU(\n",
              "          (0): Conv2d(64, 64, kernel_size=(3, 3), stride=(1, 1), padding=(1, 1), bias=False)\n",
              "          (1): BatchNorm2d(64, eps=1e-05, momentum=0.1, affine=True, track_running_stats=True)\n",
              "          (2): ReLU(inplace=True)\n",
              "        )\n",
              "        (attention2): Attention(\n",
              "          (attention): Identity()\n",
              "        )\n",
              "      )\n",
              "      (x_3_3): DecoderBlock(\n",
              "        (conv1): Conv2dReLU(\n",
              "          (0): Conv2d(128, 64, kernel_size=(3, 3), stride=(1, 1), padding=(1, 1), bias=False)\n",
              "          (1): BatchNorm2d(64, eps=1e-05, momentum=0.1, affine=True, track_running_stats=True)\n",
              "          (2): ReLU(inplace=True)\n",
              "        )\n",
              "        (attention1): Attention(\n",
              "          (attention): Identity()\n",
              "        )\n",
              "        (conv2): Conv2dReLU(\n",
              "          (0): Conv2d(64, 64, kernel_size=(3, 3), stride=(1, 1), padding=(1, 1), bias=False)\n",
              "          (1): BatchNorm2d(64, eps=1e-05, momentum=0.1, affine=True, track_running_stats=True)\n",
              "          (2): ReLU(inplace=True)\n",
              "        )\n",
              "        (attention2): Attention(\n",
              "          (attention): Identity()\n",
              "        )\n",
              "      )\n",
              "      (x_0_4): DecoderBlock(\n",
              "        (conv1): Conv2dReLU(\n",
              "          (0): Conv2d(32, 16, kernel_size=(3, 3), stride=(1, 1), padding=(1, 1), bias=False)\n",
              "          (1): BatchNorm2d(16, eps=1e-05, momentum=0.1, affine=True, track_running_stats=True)\n",
              "          (2): ReLU(inplace=True)\n",
              "        )\n",
              "        (attention1): Attention(\n",
              "          (attention): Identity()\n",
              "        )\n",
              "        (conv2): Conv2dReLU(\n",
              "          (0): Conv2d(16, 16, kernel_size=(3, 3), stride=(1, 1), padding=(1, 1), bias=False)\n",
              "          (1): BatchNorm2d(16, eps=1e-05, momentum=0.1, affine=True, track_running_stats=True)\n",
              "          (2): ReLU(inplace=True)\n",
              "        )\n",
              "        (attention2): Attention(\n",
              "          (attention): Identity()\n",
              "        )\n",
              "      )\n",
              "    )\n",
              "  )\n",
              "  (segmentation_head): SegmentationHead(\n",
              "    (0): Conv2d(16, 3, kernel_size=(3, 3), stride=(1, 1), padding=(1, 1))\n",
              "    (1): Identity()\n",
              "    (2): Activation(\n",
              "      (activation): Identity()\n",
              "    )\n",
              "  )\n",
              ")"
            ]
          },
          "metadata": {},
          "execution_count": 39
        }
      ]
    },
    {
      "cell_type": "code",
      "source": [
        "!mkdir prediction"
      ],
      "metadata": {
        "execution": {
          "iopub.status.busy": "2023-11-17T04:21:19.143859Z",
          "iopub.execute_input": "2023-11-17T04:21:19.144716Z",
          "iopub.status.idle": "2023-11-17T04:21:20.1871Z",
          "shell.execute_reply.started": "2023-11-17T04:21:19.14468Z",
          "shell.execute_reply": "2023-11-17T04:21:20.185801Z"
        },
        "trusted": true,
        "id": "uLE7fAXCvCDM"
      },
      "outputs": [],
      "execution_count": null
    },
    {
      "cell_type": "code",
      "source": [
        "model.eval()\n",
        "test_path = os.path.join(bkai_igh_neopolyp_path, \"test/test\")\n",
        "for i in os.listdir(test_path):\n",
        "    img_path = os.path.join(test_path, i)\n",
        "    ori_img = cv2.imread(img_path)\n",
        "    ori_img = cv2.cvtColor(ori_img, cv2.COLOR_BGR2RGB)\n",
        "    ori_w = ori_img.shape[0]\n",
        "    ori_h = ori_img.shape[1]\n",
        "    img = cv2.resize(ori_img, (256, 256))\n",
        "    transformed = val_transformation(image=img)\n",
        "    input_img = transformed[\"image\"]\n",
        "    input_img = input_img.unsqueeze(0).to(device)\n",
        "    with torch.no_grad():\n",
        "        output_mask = model.forward(input_img).squeeze(0).cpu().numpy().transpose(1,2,0)\n",
        "    mask = cv2.resize(output_mask, (ori_h, ori_w))\n",
        "    mask = np.argmax(mask, axis=2)\n",
        "    mask_rgb = mask_to_rgb(mask, color_dict)\n",
        "    mask_rgb = cv2.cvtColor(mask_rgb, cv2.COLOR_RGB2BGR)\n",
        "    cv2.imwrite(\"prediction/{}\".format(i), mask_rgb)"
      ],
      "metadata": {
        "execution": {
          "iopub.status.busy": "2023-11-17T04:21:22.271937Z",
          "iopub.execute_input": "2023-11-17T04:21:22.27292Z",
          "iopub.status.idle": "2023-11-17T04:21:48.873883Z",
          "shell.execute_reply.started": "2023-11-17T04:21:22.272884Z",
          "shell.execute_reply": "2023-11-17T04:21:48.873055Z"
        },
        "trusted": true,
        "id": "tlZr0Tb0vCDM"
      },
      "outputs": [],
      "execution_count": 41
    },
    {
      "cell_type": "code",
      "source": [
        "def rle_to_string(runs):\n",
        "    return ' '.join(str(x) for x in runs)\n",
        "\n",
        "def rle_encode_one_mask(mask):\n",
        "    pixels = mask.flatten()\n",
        "    pixels[pixels > 225] = 255\n",
        "    pixels[pixels <= 225] = 0\n",
        "    use_padding = False\n",
        "    if pixels[0] or pixels[-1]:\n",
        "        use_padding = True\n",
        "        pixel_padded = np.zeros([len(pixels) + 2], dtype=pixels.dtype)\n",
        "        pixel_padded[1:-1] = pixels\n",
        "        pixels = pixel_padded\n",
        "    rle = np.where(pixels[1:] != pixels[:-1])[0] + 2\n",
        "    if use_padding:\n",
        "        rle = rle - 1\n",
        "    rle[1::2] = rle[1::2] - rle[:-1:2]\n",
        "\n",
        "    return rle_to_string(rle)\n",
        "\n",
        "def rle2mask(mask_rle, shape=(3,3)):\n",
        "    s = mask_rle.split()\n",
        "    starts, lengths = [np.asarray(x, dtype=int) for x in (s[0:][::2], s[1:][::2])]\n",
        "    starts -= 1\n",
        "    ends = starts + lengths\n",
        "    img = np.zeros(shape[0]*shape[1], dtype=np.uint8)\n",
        "    for lo, hi in zip(starts, ends):\n",
        "        img[lo:hi] = 1\n",
        "    return img.reshape(shape).T\n",
        "\n",
        "def mask2string(dir):\n",
        "    strings = []\n",
        "    ids = []\n",
        "    ws, hs = [[] for i in range(2)]\n",
        "    for image_id in os.listdir(dir):\n",
        "        id = image_id.split('.')[0]\n",
        "        path = os.path.join(dir, image_id)\n",
        "        print(path)\n",
        "        img = cv2.imread(path)[:,:,::-1]\n",
        "        h, w = img.shape[0], img.shape[1]\n",
        "        for channel in range(2):\n",
        "            ws.append(w)\n",
        "            hs.append(h)\n",
        "            ids.append(f'{id}_{channel}')\n",
        "            string = rle_encode_one_mask(img[:,:,channel])\n",
        "            strings.append(string)\n",
        "    r = {\n",
        "        'ids': ids,\n",
        "        'strings': strings,\n",
        "    }\n",
        "    return r\n",
        "\n",
        "\n",
        "MASK_DIR_PATH = '/content/prediction'\n",
        "dir = MASK_DIR_PATH\n",
        "res = mask2string(dir)\n",
        "df = pd.DataFrame(columns=['Id', 'Expected'])\n",
        "df['Id'] = res['ids']\n",
        "df['Expected'] = res['strings']\n",
        "\n",
        "df.to_csv(r'output.csv', index=False)"
      ],
      "metadata": {
        "execution": {
          "iopub.status.busy": "2023-11-17T04:21:54.066335Z",
          "iopub.execute_input": "2023-11-17T04:21:54.067156Z",
          "iopub.status.idle": "2023-11-17T04:21:57.357665Z",
          "shell.execute_reply.started": "2023-11-17T04:21:54.067121Z",
          "shell.execute_reply": "2023-11-17T04:21:57.356658Z"
        },
        "trusted": true,
        "id": "X4XBEDGYvCDM",
        "colab": {
          "base_uri": "https://localhost:8080/"
        },
        "outputId": "c6a1c31f-d627-4efd-9fbc-0fc173c4736c"
      },
      "outputs": [
        {
          "output_type": "stream",
          "name": "stdout",
          "text": [
            "/content/prediction/d6bf62f215f0da4ad3a7ab8df9da7386.jpeg\n",
            "/content/prediction/cf6644589e532a9ee954f81faedbce39.jpeg\n",
            "/content/prediction/2ed9fbb63b28163a745959c03983064a.jpeg\n",
            "/content/prediction/3b8318ecf467d7ad048df39beb176363.jpeg\n",
            "/content/prediction/4baddc22268d4b4ef4d95ceea1195799.jpeg\n",
            "/content/prediction/cdf3f33c3ca4d5060a633a8d5b2b2b55.jpeg\n",
            "/content/prediction/780fd497e1c0e9082ea2c193ac8d551c.jpeg\n",
            "/content/prediction/f7fdb2d45b21960c94b0aab4c024a573.jpeg\n",
            "/content/prediction/7330398846f67b5df7cdf3f33c3ca4d5.jpeg\n",
            "/content/prediction/eecd70ebce6347c491b37c8c2e5a64a8.jpeg\n",
            "/content/prediction/85a04faeeb2b535797395305af926a6f.jpeg\n",
            "/content/prediction/c656702fa602bb3c7abacdbd7e6afd56.jpeg\n",
            "/content/prediction/936de314f2d95e6c487ffa651b477422.jpeg\n",
            "/content/prediction/f13dd311a65d2b46d0a6085835c525af.jpeg\n",
            "/content/prediction/5664c1711b62f15ec83b97bb11e8e0c4.jpeg\n",
            "/content/prediction/05b78a91391adc0bb223c4eaf3372eae.jpeg\n",
            "/content/prediction/e1797c77826f9a7021bab9fc73303988.jpeg\n",
            "/content/prediction/5a51625559c7e610b1531871f2fd85a0.jpeg\n",
            "/content/prediction/1c0e9082ea2c193ac8d551c149b60f29.jpeg\n",
            "/content/prediction/15fc656702fa602bb3c7abacdbd7e6af.jpeg\n",
            "/content/prediction/fcd6da15fc656702fa602bb3c7abacdb.jpeg\n",
            "/content/prediction/dc0bb223c4eaf3372eae567c94ea04c6.jpeg\n",
            "/content/prediction/a15fc656702fa602bb3c7abacdbd7e6a.jpeg\n",
            "/content/prediction/39d6aad6bb0170a40ed32deef71fbe08.jpeg\n",
            "/content/prediction/71f2fd85a04faeeb2b535797395305af.jpeg\n",
            "/content/prediction/13dd311a65d2b46d0a6085835c525af6.jpeg\n",
            "/content/prediction/afe1f119f21b248d152b672ab3492fc6.jpeg\n",
            "/content/prediction/cbb2a365b5574868eb60861ee1ff0b8a.jpeg\n",
            "/content/prediction/fb905b78a91391adc0bb223c4eaf3372.jpeg\n",
            "/content/prediction/67d4dcf9596154efb7cef748d9cbd617.jpeg\n",
            "/content/prediction/5b21960c94b0aab4c024a573c692195f.jpeg\n",
            "/content/prediction/c5a0808bee60b246359c68c836f843dc.jpeg\n",
            "/content/prediction/268d4b4ef4d95ceea11957998906d369.jpeg\n",
            "/content/prediction/e5e8f14e1e0ae936de314f2d95e6c487.jpeg\n",
            "/content/prediction/45b21960c94b0aab4c024a573c692195.jpeg\n",
            "/content/prediction/a51625559c7e610b1531871f2fd85a04.jpeg\n",
            "/content/prediction/af35b65bd9ea42cfcfedb5eb2a0e4b50.jpeg\n",
            "/content/prediction/60a633a8d5b2b2b55157b7781e2c706c.jpeg\n",
            "/content/prediction/c41545ba55aadaa77712a48e11d579d9.jpeg\n",
            "/content/prediction/0626ab4ec3d46e602b296cc5cfd263f1.jpeg\n",
            "/content/prediction/4f437f0019f7e6af7d7147763bdfb928.jpeg\n",
            "/content/prediction/461c2a337948a41964c1d4f50a5f3601.jpeg\n",
            "/content/prediction/4c1711b62f15ec83b97bb11e8e0c4416.jpeg\n",
            "/content/prediction/faef7fdb2d45b21960c94b0aab4c024a.jpeg\n",
            "/content/prediction/3425b976973f13dd311a65d2b46d0a60.jpeg\n",
            "/content/prediction/8cbdf366e057db382b8564872a27301a.jpeg\n",
            "/content/prediction/d3694abb47953b0e4909384b57bb6a05.jpeg\n",
            "/content/prediction/7cdf3f33c3ca4d5060a633a8d5b2b2b5.jpeg\n",
            "/content/prediction/f14e1e0ae936de314f2d95e6c487ffa6.jpeg\n",
            "/content/prediction/eb1ef57af2ed9fbb63b28163a745959c.jpeg\n",
            "/content/prediction/6679bff55177a34fc01019eec999fd84.jpeg\n",
            "/content/prediction/c22268d4b4ef4d95ceea11957998906d.jpeg\n",
            "/content/prediction/dd78294679c9cbb2a365b5574868eb60.jpeg\n",
            "/content/prediction/e7998934d417cb2eb1ef57af2ed9fbb6.jpeg\n",
            "/content/prediction/fe1f119f21b248d152b672ab3492fc62.jpeg\n",
            "/content/prediction/e56a6d9ba9d45c3dbc695325ded465ef.jpeg\n",
            "/content/prediction/4e2a6e51d077bad31c8c5f54ffaa27a6.jpeg\n",
            "/content/prediction/3f33c3ca4d5060a633a8d5b2b2b55157.jpeg\n",
            "/content/prediction/9632a3c6f7f7fb2a643f15bd0249ddcc.jpeg\n",
            "/content/prediction/9fc7330398846f67b5df7cdf3f33c3ca.jpeg\n",
            "/content/prediction/318ecf467d7ad048df39beb176363408.jpeg\n",
            "/content/prediction/f8e26031fbb5e52c41545ba55aadaa77.jpeg\n",
            "/content/prediction/633a8d5b2b2b55157b7781e2c706c75c.jpeg\n",
            "/content/prediction/4fda8daadc8dd23ae214d84b5dec33fd.jpeg\n",
            "/content/prediction/1ad4f13ccf1f4b331a412fc44655fb51.jpeg\n",
            "/content/prediction/82ea2c193ac8d551c149b60f2965341c.jpeg\n",
            "/content/prediction/bec33b5e3d68f9d4c331587f9b9d49e2.jpeg\n",
            "/content/prediction/aafac813fe3ccba3e032dd2948a80c64.jpeg\n",
            "/content/prediction/80c643782707d7c359e27888daefee82.jpeg\n",
            "/content/prediction/77e004e8bfb905b78a91391adc0bb223.jpeg\n",
            "/content/prediction/a9d45c3dbc695325ded465efde988dfb.jpeg\n",
            "/content/prediction/6ad1468996b4a9ce6d840b53a6558038.jpeg\n",
            "/content/prediction/343f27ebc5d92b9076135d76d0bbd4ce.jpeg\n",
            "/content/prediction/6ddca6ee1af35b65bd9ea42cfcfedb5e.jpeg\n",
            "/content/prediction/a6e51d077bad31c8c5f54ffaa27a6235.jpeg\n",
            "/content/prediction/5026b3550534bca540e24f489284b8e6.jpeg\n",
            "/content/prediction/2cd066b9fdbc3bbc04a3afe1f119f21b.jpeg\n",
            "/content/prediction/9c7976c1182df0de51d32128c358d1fd.jpeg\n",
            "/content/prediction/395e56a6d9ba9d45c3dbc695325ded46.jpeg\n",
            "/content/prediction/4e8bfb905b78a91391adc0bb223c4eaf.jpeg\n",
            "/content/prediction/98da48d679d7c7c8d3d96fb2b87fbbcf.jpeg\n",
            "/content/prediction/cb2eb1ef57af2ed9fbb63b28163a7459.jpeg\n",
            "/content/prediction/be86f03d900fd197cd955fa095f97845.jpeg\n",
            "/content/prediction/998906d3694abb47953b0e4909384b57.jpeg\n",
            "/content/prediction/7af2ed9fbb63b28163a745959c039830.jpeg\n",
            "/content/prediction/87133b51209db6dcdda5cc8a788edaeb.jpeg\n",
            "/content/prediction/63b8318ecf467d7ad048df39beb17636.jpeg\n",
            "/content/prediction/26679bff55177a34fc01019eec999fd8.jpeg\n",
            "/content/prediction/5beb48f0be11d0309d1dff09b8405734.jpeg\n",
            "/content/prediction/cc5cfd263f1f90be28799235026b3550.jpeg\n",
            "/content/prediction/0619ebebe9e9c9d00a4262b4fe4a5a95.jpeg\n",
            "/content/prediction/285e26c90e1797c77826f9a7021bab9f.jpeg\n",
            "/content/prediction/50534bca540e24f489284b8e6953ad88.jpeg\n",
            "/content/prediction/1002ec4a1fe748f3085f1ce88cbdf366.jpeg\n",
            "/content/prediction/df366e057db382b8564872a27301a654.jpeg\n",
            "/content/prediction/ca4d5060a633a8d5b2b2b55157b7781e.jpeg\n",
            "/content/prediction/30c2f4fc276ed9f178dc2f4af6266509.jpeg\n",
            "/content/prediction/8954bb13d3727c7e5e1069646f2f0bb8.jpeg\n",
            "/content/prediction/ff55177a34fc01019eec999fd84e679b.jpeg\n",
            "/content/prediction/4417fda8019410b1fcf0625f608b4ce9.jpeg\n",
            "/content/prediction/6d3694abb47953b0e4909384b57bb6a0.jpeg\n",
            "/content/prediction/d694539ef2424a9218697283baa3657e.jpeg\n",
            "/content/prediction/05734fbeedd0f9da760db74a29abdb04.jpeg\n",
            "/content/prediction/68d4b4ef4d95ceea11957998906d3694.jpeg\n",
            "/content/prediction/be4d18d5401f659532897255ce2dd4ae.jpeg\n",
            "/content/prediction/4ca6160127cd1d5ff99c267599fc487b.jpeg\n",
            "/content/prediction/97e1c0e9082ea2c193ac8d551c149b60.jpeg\n",
            "/content/prediction/710d568df17586ad8f3297c819c90895.jpeg\n",
            "/content/prediction/6240619ebebe9e9c9d00a4262b4fe4a5.jpeg\n",
            "/content/prediction/41ed86e58224cb76a67d4dcf9596154e.jpeg\n",
            "/content/prediction/3c692195f853af7f8a4df1ec859759b7.jpeg\n",
            "/content/prediction/e19769fa2d37d32780fd497e1c0e9082.jpeg\n",
            "/content/prediction/4ef4d95ceea11957998906d3694abb47.jpeg\n",
            "/content/prediction/72d9e593b6be1ac29adbe86f03d900fd.jpeg\n",
            "/content/prediction/dc70626ab4ec3d46e602b296cc5cfd26.jpeg\n",
            "/content/prediction/d5060a633a8d5b2b2b55157b7781e2c7.jpeg\n",
            "/content/prediction/6f4d4987ea3b4bae5672a230194c5a08.jpeg\n",
            "/content/prediction/94a7f32574d6c748c41743c6c08a1d1a.jpeg\n",
            "/content/prediction/ea42b4eebc9e5a87e443434ac60af150.jpeg\n",
            "/content/prediction/6231002ec4a1fe748f3085f1ce88cbdf.jpeg\n",
            "/content/prediction/0fca6a4248a41e8db8b4ed633b456aaa.jpeg\n",
            "/content/prediction/c4be73749a0d21db70dd094a7f32574d.jpeg\n",
            "/content/prediction/425b976973f13dd311a65d2b46d0a608.jpeg\n",
            "/content/prediction/7ad1cf2eb9d32a3dc907950289e976c7.jpeg\n",
            "/content/prediction/7fda8019410b1fcf0625f608b4ce9762.jpeg\n",
            "/content/prediction/6b83ef461c2a337948a41964c1d4f50a.jpeg\n",
            "/content/prediction/1209db6dcdda5cc8a788edaeb6aa460a.jpeg\n",
            "/content/prediction/2a365b5574868eb60861ee1ff0b8a4f6.jpeg\n",
            "/content/prediction/a48847ae8395e56a6d9ba9d45c3dbc69.jpeg\n",
            "/content/prediction/5c1346e62522325c1b9c4fc9cbe1eca1.jpeg\n",
            "/content/prediction/7936140a2d5fc1443c4e445927738677.jpeg\n",
            "/content/prediction/8b8ec74baddc22268d4b4ef4d95ceea1.jpeg\n",
            "/content/prediction/019410b1fcf0625f608b4ce97629ab55.jpeg\n",
            "/content/prediction/559c7e610b1531871f2fd85a04faeeb2.jpeg\n",
            "/content/prediction/cb1b387133b51209db6dcdda5cc8a788.jpeg\n",
            "/content/prediction/f62f215f0da4ad3a7ab8df9da7386835.jpeg\n",
            "/content/prediction/1db239dda50f954ba59c7de13a35276a.jpeg\n",
            "/content/prediction/d6240619ebebe9e9c9d00a4262b4fe4a.jpeg\n",
            "/content/prediction/2d9e593b6be1ac29adbe86f03d900fd1.jpeg\n",
            "/content/prediction/ff05dec1eb3a70b145a7d8d3b6c0ed75.jpeg\n",
            "/content/prediction/c193ac8d551c149b60f2965341caf528.jpeg\n",
            "/content/prediction/c7e610b1531871f2fd85a04faeeb2b53.jpeg\n",
            "/content/prediction/fdbc3bbc04a3afe1f119f21b248d152b.jpeg\n",
            "/content/prediction/e1e0ae936de314f2d95e6c487ffa651b.jpeg\n",
            "/content/prediction/677a6b1f2c6d40b3bbba8f6c704801b3.jpeg\n",
            "/content/prediction/8fa8625605da2023387fd56c04414eaa.jpeg\n",
            "/content/prediction/3bbc04a3afe1f119f21b248d152b672a.jpeg\n",
            "/content/prediction/7b5df7cdf3f33c3ca4d5060a633a8d5b.jpeg\n",
            "/content/prediction/f8e5ad89d2844837f2a0f1536ad3f6a5.jpeg\n",
            "/content/prediction/3c3ca4d5060a633a8d5b2b2b55157b77.jpeg\n",
            "/content/prediction/e2cd066b9fdbc3bbc04a3afe1f119f21.jpeg\n",
            "/content/prediction/e3c84417fda8019410b1fcf0625f608b.jpeg\n",
            "/content/prediction/eff05dec1eb3a70b145a7d8d3b6c0ed7.jpeg\n",
            "/content/prediction/a6d9ba9d45c3dbc695325ded465efde9.jpeg\n",
            "/content/prediction/1531871f2fd85a04faeeb2b535797395.jpeg\n",
            "/content/prediction/3c84417fda8019410b1fcf0625f608b4.jpeg\n",
            "/content/prediction/66e057db382b8564872a27301a654864.jpeg\n",
            "/content/prediction/7f0019f7e6af7d7147763bdfb928d788.jpeg\n",
            "/content/prediction/5e8f14e1e0ae936de314f2d95e6c487f.jpeg\n",
            "/content/prediction/8eb5a9a8a8d7fcc9df8e5ad89d284483.jpeg\n",
            "/content/prediction/e9082ea2c193ac8d551c149b60f29653.jpeg\n",
            "/content/prediction/b21960c94b0aab4c024a573c692195f8.jpeg\n",
            "/content/prediction/ad43fe2cd066b9fdbc3bbc04a3afe1f1.jpeg\n",
            "/content/prediction/782707d7c359e27888daefee82519763.jpeg\n",
            "/content/prediction/db5eb2a0e4b50889d874c68c030b9afe.jpeg\n",
            "/content/prediction/e73749a0d21db70dd094a7f32574d6c7.jpeg\n",
            "/content/prediction/626650908b1cb932a767bf5487ced51b.jpeg\n",
            "/content/prediction/0af3feff05dec1eb3a70b145a7d8d3b6.jpeg\n",
            "/content/prediction/1b62f15ec83b97bb11e8e0c4416c1931.jpeg\n",
            "/content/prediction/6f67b5df7cdf3f33c3ca4d5060a633a8.jpeg\n",
            "/content/prediction/625559c7e610b1531871f2fd85a04fae.jpeg\n",
            "/content/prediction/0a0317371a966bf4b3466463a3c64db1.jpeg\n",
            "/content/prediction/391adc0bb223c4eaf3372eae567c94ea.jpeg\n",
            "/content/prediction/3657e4314fe384eb2ba3adfda6c1899f.jpeg\n",
            "/content/prediction/c695325ded465efde988dfb96d081533.jpeg\n",
            "/content/prediction/3dd311a65d2b46d0a6085835c525af63.jpeg\n",
            "/content/prediction/60b246359c68c836f843dcf41f4dce3c.jpeg\n",
            "/content/prediction/aeeb2b535797395305af926a6f23c5d6.jpeg\n",
            "/content/prediction/0a5f3601ad4f13ccf1f4b331a412fc44.jpeg\n",
            "/content/prediction/dd094a7f32574d6c748c41743c6c08a1.jpeg\n",
            "/content/prediction/df8e26031fbb5e52c41545ba55aadaa7.jpeg\n",
            "/content/prediction/b70dd094a7f32574d6c748c41743c6c0.jpeg\n",
            "/content/prediction/e4a17af18f72c8e6166a915669c99390.jpeg\n",
            "/content/prediction/a3657e4314fe384eb2ba3adfda6c1899.jpeg\n",
            "/content/prediction/a6a4248a41e8db8b4ed633b456aaafac.jpeg\n",
            "/content/prediction/80cae6daedd989517cb8041ed86e5822.jpeg\n",
            "/content/prediction/8395e56a6d9ba9d45c3dbc695325ded4.jpeg\n",
            "/content/prediction/7f32574d6c748c41743c6c08a1d1ad8f.jpeg\n",
            "/content/prediction/692195f853af7f8a4df1ec859759b7c8.jpeg\n",
            "/content/prediction/02fa602bb3c7abacdbd7e6afd56ea7bc.jpeg\n",
            "/content/prediction/d077bad31c8c5f54ffaa27a623511c38.jpeg\n",
            "/content/prediction/0398846f67b5df7cdf3f33c3ca4d5060.jpeg\n",
            "/content/prediction/54ba59c7de13a35276a476420655433a.jpeg\n",
            "/content/prediction/314fe384eb2ba3adfda6c1899fdc9837.jpeg\n",
            "/content/prediction/7cb2eb1ef57af2ed9fbb63b28163a745.jpeg\n",
            "/content/prediction/27738677a6b1f2c6d40b3bbba8f6c704.jpeg\n",
            "/content/prediction/88e16d4ca6160127cd1d5ff99c267599.jpeg\n",
            "/content/prediction/cf464aa36bf7c09a3bb0e5ca159410b9.jpeg\n",
            "/content/prediction/e8bfb905b78a91391adc0bb223c4eaf3.jpeg\n",
            "/content/prediction/39dda50f954ba59c7de13a35276a4764.jpeg\n"
          ]
        }
      ],
      "execution_count": 44
    },
    {
      "cell_type": "markdown",
      "source": [
        "#Infer"
      ],
      "metadata": {
        "id": "m594-76pvCDN"
      }
    },
    {
      "cell_type": "code",
      "source": [
        "import argparse\n",
        "import os\n",
        "import torch\n",
        "import cv2\n",
        "from random import choice\n",
        "import numpy as np\n",
        "import segmentation_models_pytorch as smp\n",
        "from collections import OrderedDict\n",
        "from torchvision import transforms\n",
        "\n",
        "\n",
        "def preprocess_image(image_path, input_size=(256, 256)):\n",
        "    \"\"\"\n",
        "    Preprocess the input image for the model.\n",
        "    Resize, normalize, and convert to a tensor.\n",
        "    \"\"\"\n",
        "    # Read the image\n",
        "    image = cv2.imread(image_path)\n",
        "    if image is None:\n",
        "        raise FileNotFoundError(f\"Image not found at path: {image_path}\")\n",
        "    image = cv2.cvtColor(image, cv2.COLOR_BGR2RGB)\n",
        "\n",
        "    # Resize image\n",
        "    resized = cv2.resize(image, input_size, interpolation=cv2.INTER_AREA)\n",
        "\n",
        "    # Normalize and convert to tensor\n",
        "    preprocess = transforms.Compose([\n",
        "        transforms.ToTensor(),\n",
        "        transforms.Normalize(mean=[0.485, 0.456, 0.406], std=[0.229, 0.224, 0.225])\n",
        "    ])\n",
        "    tensor = preprocess(resized).unsqueeze(0)  # Add batch dimension\n",
        "    return tensor, image.shape[:2]  # Return tensor and original shape\n",
        "\n",
        "\n",
        "def postprocess_output(output, original_shape):\n",
        "    \"\"\"\n",
        "    Post-process the model's output to match the original image shape.\n",
        "    Converts logits to binary mask and resizes back.\n",
        "    \"\"\"\n",
        "    # Convert logits to probabilities and threshold at 0.5\n",
        "    output = torch.sigmoid(output).squeeze(0).detach().cpu().numpy()\n",
        "    mask = (output > 0.5).astype(np.uint8)\n",
        "\n",
        "    # Resize mask to original shape\n",
        "    mask_resized = cv2.resize(mask.transpose(1, 2, 0), original_shape[::-1], interpolation=cv2.INTER_NEAREST)\n",
        "\n",
        "    return mask_resized\n",
        "\n",
        "\n",
        "def main():\n",
        "    # Parse arguments\n",
        "    parser = argparse.ArgumentParser(description=\"Run segmentation inference on a single image.\")\n",
        "    parser.add_argument(\"--image_path\", type=str, required=True, help=\"Path to the input image.\")\n",
        "    parser.add_argument(\"--output_path\", type=str, default=\"segmented_output.png\", help=\"Path to save the output image.\")\n",
        "    args = parser.parse_args()\n",
        "\n",
        "    # Load model\n",
        "    model = smp.UnetPlusPlus(\n",
        "        encoder_name=\"resnet18\",\n",
        "        encoder_weights=None,  # We're loading weights from the checkpoint\n",
        "        in_channels=3,\n",
        "        classes=3  # Number of output segmentation classes\n",
        "    )\n",
        "\n",
        "    # Load checkpoint\n",
        "    # Explicitly map the model to CPU\n",
        "    checkpoint = torch.load('model.pth', map_location=torch.device('cpu'))\n",
        "    model.load_state_dict(checkpoint['model'])\n",
        "\n",
        "    # Set the device to CPU\n",
        "    device = torch.device('cpu')\n",
        "    model.to(device)\n",
        "    model.eval()  # Set model to evaluation mode\n",
        "\n",
        "    # Preprocess input image\n",
        "    image_tensor, original_shape = preprocess_image(args.image_path)\n",
        "\n",
        "    # Perform inference\n",
        "    with torch.no_grad():\n",
        "        output = model(image_tensor)\n",
        "\n",
        "    # Postprocess output\n",
        "    segmented_image = postprocess_output(output, original_shape)\n",
        "\n",
        "    # Save the segmented image\n",
        "    segmented_image_colored = (segmented_image * 255).astype(np.uint8)  # Scale to 0-255\n",
        "    cv2.imwrite(args.output_path, segmented_image_colored)\n",
        "\n",
        "    print(f\"Segmented image saved to: {args.output_path}\")\n",
        "\n"
      ],
      "metadata": {
        "colab": {
          "base_uri": "https://localhost:8080/"
        },
        "id": "TDUTiPXMLE-5",
        "outputId": "4ea24a0f-6792-4d94-8a94-970fb5ed2aab"
      },
      "execution_count": 40,
      "outputs": [
        {
          "output_type": "stream",
          "name": "stderr",
          "text": [
            "<ipython-input-40-3a8471058fde>:67: FutureWarning: You are using `torch.load` with `weights_only=False` (the current default value), which uses the default pickle module implicitly. It is possible to construct malicious pickle data which will execute arbitrary code during unpickling (See https://github.com/pytorch/pytorch/blob/main/SECURITY.md#untrusted-models for more details). In a future release, the default value for `weights_only` will be flipped to `True`. This limits the functions that could be executed during unpickling. Arbitrary objects will no longer be allowed to be loaded via this mode unless they are explicitly allowlisted by the user via `torch.serialization.add_safe_globals`. We recommend you start setting `weights_only=True` for any use case where you don't have full control of the loaded file. Please open an issue on GitHub for any issues related to this experimental feature.\n",
            "  checkpoint = torch.load('model.pth', map_location=torch.device('cpu'))\n"
          ]
        },
        {
          "output_type": "stream",
          "name": "stdout",
          "text": [
            "Segmented image saved to: /content/output.png\n"
          ]
        }
      ]
    },
    {
      "cell_type": "markdown",
      "source": [
        "### Code snippet for run in a notebook"
      ],
      "metadata": {
        "id": "GGr6myvaWNjy"
      }
    },
    {
      "cell_type": "code",
      "source": [
        "import sys\n",
        "\n",
        "test_path = os.path.join(bkai_igh_neopolyp_path, \"test/test\")\n",
        "i = choice(os.listdir(test_path))\n",
        "img_path = os.path.join(test_path, i)\n",
        "cv2.imwrite(\"input.png\", cv2.imread(img_path))\n",
        "# Mock command-line arguments\n",
        "sys.argv = [\n",
        "    \"infer.py\",\n",
        "    \"--image_path\", img_path,\n",
        "    \"--output_path\", \"/content/output.png\",\n",
        "]\n",
        "\n",
        "# Call the main function\n",
        "if __name__ == \"__main__\":\n",
        "    main()\n"
      ],
      "metadata": {
        "id": "OFmttZLlWG_9"
      },
      "execution_count": null,
      "outputs": []
    }
  ]
}